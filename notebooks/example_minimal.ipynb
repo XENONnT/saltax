{
 "cells": [
  {
   "cell_type": "markdown",
   "id": "a5455317-96ee-4586-a994-b029e6ffd853",
   "metadata": {},
   "source": [
    "This is a minimal example illustrating what `saltax` can give you. \n",
    "\n",
    "Lanqing & Dacheng, Jun 29 2025"
   ]
  },
  {
   "cell_type": "markdown",
   "id": "25189e27-34bb-4107-b052-ec205aa59c08",
   "metadata": {},
   "source": [
    "There will be 3 datasets in the end:\n",
    "- `data`: Exactly the same as offline real data.\n",
    "- `simulation`: Events reconstructed using the simulation instruction only, there is nothing else in the reconstruction process.\n",
    "- `sprinkled`: Events reconstructed by mixing simulation and data. Some time it is also called `salt` and they mean the same thing. "
   ]
  },
  {
   "cell_type": "code",
   "execution_count": 1,
   "id": "f36c94c5-db4b-4612-8fee-426115b5f655",
   "metadata": {},
   "outputs": [
    {
     "name": "stderr",
     "output_type": "stream",
     "text": [
      "*** Detector definition message ***\n",
      "You are currently using the default XENON10 template detector.\n",
      "\n",
      "/opt/XENONnT/anaconda/envs/XENONnT_el7.2025.07.1/lib/python3.11/site-packages/xgboost/core.py:265: FutureWarning: Your system has an old version of glibc (< 2.28). We will stop supporting Linux distros with glibc older than 2.28 after **May 31, 2025**. Please upgrade to a recent Linux distro (with glibc 2.28+) to use future versions of XGBoost.\n",
      "Note: You have installed the 'manylinux2014' variant of XGBoost. Certain features such as GPU algorithms or federated learning are not available. To use these features, please upgrade to a recent Linux distro with glibc 2.28+, and install the 'manylinux_2_28' variant.\n",
      "  warnings.warn(\n",
      "/home/xudc/cutax/cutax/cut_lists/science.py:28: UserWarning: Removing cut <class 'cutax.cuts.s1_width.S1Width'>\n",
      "  warnings.warn(f\"Removing cut {cut}\", UserWarning)\n",
      "/home/xudc/cutax/cutax/cut_lists/science.py:28: UserWarning: Removing cut <class 'cutax.cuts.s2_width.S2Width'>\n",
      "  warnings.warn(f\"Removing cut {cut}\", UserWarning)\n",
      "/home/xudc/cutax/cutax/cut_lists/science.py:28: UserWarning: Removing cut <class 'cutax.cuts.s2_width.S2Width'>\n",
      "  warnings.warn(f\"Removing cut {cut}\", UserWarning)\n",
      "/home/xudc/cutax/cutax/cut_lists/science.py:28: UserWarning: Removing cut <class 'cutax.cuts.s1_width.S1Width'>\n",
      "  warnings.warn(f\"Removing cut {cut}\", UserWarning)\n",
      "/home/xudc/cutax/cutax/cut_lists/science.py:28: UserWarning: Removing cut <class 'cutax.cuts.s1_single_scatter.S1SingleScatter'>\n",
      "  warnings.warn(f\"Removing cut {cut}\", UserWarning)\n",
      "/home/xudc/cutax/cutax/cut_lists/science.py:28: UserWarning: Removing cut <class 'cutax.cuts.s2_width.S2Width'>\n",
      "  warnings.warn(f\"Removing cut {cut}\", UserWarning)\n",
      "/home/xudc/cutax/cutax/cut_lists/science.py:28: UserWarning: Removing cut <class 'cutax.cuts.s1_width.S1Width'>\n",
      "  warnings.warn(f\"Removing cut {cut}\", UserWarning)\n",
      "/home/xudc/cutax/cutax/cut_lists/science.py:28: UserWarning: Removing cut <class 'cutax.cuts.s2_width.S2Width'>\n",
      "  warnings.warn(f\"Removing cut {cut}\", UserWarning)\n"
     ]
    },
    {
     "data": {
      "text/html": [
       "<div>\n",
       "<style scoped>\n",
       "    .dataframe tbody tr th:only-of-type {\n",
       "        vertical-align: middle;\n",
       "    }\n",
       "\n",
       "    .dataframe tbody tr th {\n",
       "        vertical-align: top;\n",
       "    }\n",
       "\n",
       "    .dataframe thead th {\n",
       "        text-align: right;\n",
       "    }\n",
       "</style>\n",
       "<table border=\"1\" class=\"dataframe\">\n",
       "  <thead>\n",
       "    <tr style=\"text-align: right;\">\n",
       "      <th></th>\n",
       "      <th>module</th>\n",
       "      <th>version</th>\n",
       "      <th>path</th>\n",
       "      <th>git</th>\n",
       "    </tr>\n",
       "  </thead>\n",
       "  <tbody>\n",
       "    <tr>\n",
       "      <th>0</th>\n",
       "      <td>python</td>\n",
       "      <td>3.11.0</td>\n",
       "      <td>/opt/XENONnT/anaconda/envs/XENONnT_el7.2025.07...</td>\n",
       "      <td>None</td>\n",
       "    </tr>\n",
       "    <tr>\n",
       "      <th>1</th>\n",
       "      <td>strax</td>\n",
       "      <td>2.2.1</td>\n",
       "      <td>/home/xudc/strax/strax</td>\n",
       "      <td>branch:bump_v221 | 3345a1b</td>\n",
       "    </tr>\n",
       "    <tr>\n",
       "      <th>2</th>\n",
       "      <td>straxen</td>\n",
       "      <td>3.2.2</td>\n",
       "      <td>/home/xudc/straxen/straxen</td>\n",
       "      <td>branch:master | b5235cc</td>\n",
       "    </tr>\n",
       "    <tr>\n",
       "      <th>3</th>\n",
       "      <td>cutax</td>\n",
       "      <td>2.3.0</td>\n",
       "      <td>/home/xudc/cutax/cutax</td>\n",
       "      <td>branch:master | e809b3f</td>\n",
       "    </tr>\n",
       "    <tr>\n",
       "      <th>4</th>\n",
       "      <td>saltax</td>\n",
       "      <td>0.2.2</td>\n",
       "      <td>/home/xudc/saltax/saltax</td>\n",
       "      <td>branch:write_run_id_to_config | fd68486</td>\n",
       "    </tr>\n",
       "  </tbody>\n",
       "</table>\n",
       "</div>"
      ],
      "text/plain": [
       "    module version                                               path  \\\n",
       "0   python  3.11.0  /opt/XENONnT/anaconda/envs/XENONnT_el7.2025.07...   \n",
       "1    strax   2.2.1                             /home/xudc/strax/strax   \n",
       "2  straxen   3.2.2                         /home/xudc/straxen/straxen   \n",
       "3    cutax   2.3.0                             /home/xudc/cutax/cutax   \n",
       "4   saltax   0.2.2                           /home/xudc/saltax/saltax   \n",
       "\n",
       "                                       git  \n",
       "0                                     None  \n",
       "1               branch:bump_v221 | 3345a1b  \n",
       "2                  branch:master | b5235cc  \n",
       "3                  branch:master | e809b3f  \n",
       "4  branch:write_run_id_to_config | fd68486  "
      ]
     },
     "execution_count": 1,
     "metadata": {},
     "output_type": "execute_result"
    }
   ],
   "source": [
    "import matplotlib.pyplot as plt\n",
    "import strax\n",
    "import straxen\n",
    "import saltax\n",
    "from saltax.utils import straxen_version\n",
    "\n",
    "straxen.print_versions((\"strax\", \"straxen\", \"cutax\", \"saltax\"))"
   ]
  },
  {
   "cell_type": "markdown",
   "id": "c5d11265-ec2e-4660-b7ae-edc437e6c704",
   "metadata": {},
   "source": [
    "Now let's define contexts in the `saltax` fasion."
   ]
  },
  {
   "cell_type": "markdown",
   "id": "c19b2c9c-2495-4fa0-915e-e6a04a983160",
   "metadata": {},
   "source": [
    "Once you define the contexts below, it will\n",
    "- Try to fetch simulation instruction specified by the context\n",
    "- If no instruction found, generate simulation instruction.\n",
    "- Register the `saltax` plugins as well as the `cutax` and `straxen` standard ones if not replaced."
   ]
  },
  {
   "cell_type": "code",
   "execution_count": 2,
   "id": "b37b75c6-c566-4179-bf94-b5aa228bde22",
   "metadata": {},
   "outputs": [],
   "source": [
    "if straxen_version() == 2:\n",
    "    run_id = \"037119\"\n",
    "    xedocs_version = \"global_v14\"\n",
    "elif straxen_version() == 3:\n",
    "    run_id = \"066016\"\n",
    "    xedocs_version = \"global_v18\""
   ]
  },
  {
   "cell_type": "code",
   "execution_count": 3,
   "id": "36da7cbc-4153-431f-99d0-8608f8d08610",
   "metadata": {},
   "outputs": [
    {
     "name": "stderr",
     "output_type": "stream",
     "text": [
      "WARNING:saltax.contexts:Welcome to computation mode which only works for run 066016!\n",
      "INFO:fuse.context:Using simulation config file: fuse_config_nt_sr1_dev.json\n",
      "INFO:fuse.context:Using clustering method: dbscan\n",
      "WARNING:strax:Provides of multi-output plugins overlap, deregister old plugins <class 'straxen.plugins.raw_records.daqreader.DAQReader'>.\n",
      "WARNING:strax:Provides of multi-output plugins overlap, deregister old plugins <class 'straxen.plugins.raw_records.daqreader.DAQReader'>.\n",
      "WARNING:strax:Provides of multi-output plugins overlap, deregister old plugins <class 'straxen.plugins.raw_records.daqreader.DAQReader'>.\n",
      "WARNING:strax:Provides of multi-output plugins overlap, deregister old plugins <class 'straxen.plugins.raw_records.daqreader.DAQReader'>.\n",
      "WARNING:strax:Provides of multi-output plugins overlap, deregister old plugins <class 'straxen.plugins.raw_records.daqreader.DAQReader'>.\n",
      "WARNING:strax:Provides of multi-output plugins overlap, deregister old plugins <class 'straxen.plugins.raw_records.daqreader.DAQReader'>.\n",
      "INFO:fuse.context:Overriding processing plugins:\n",
      "INFO:fuse.context:Registering <class 'fuse.plugins.processing.corrected_areas.CorrectedAreasMC'>\n",
      "WARNING:strax:Option gain_model_nv purged from context config as it is not used.\n",
      "WARNING:strax:Option gain_model_mv purged from context config as it is not used.\n",
      "WARNING:strax:Option diffusion_constant purged from context config as it is not used.\n",
      "WARNING:strax:Option hit_min_amplitude_he purged from context config as it is not used.\n",
      "WARNING:strax:Option hit_min_amplitude_mv purged from context config as it is not used.\n",
      "WARNING:strax:Option hit_min_amplitude_nv purged from context config as it is not used.\n",
      "INFO:fuse.context:[legacy] Using fdc_map_mc: XnT_3D_FDC_xyz_SR1_15_Mar_2024_MC.json.gz\n",
      "WARNING:saltax.contexts:Welcome to computation mode which only works for run 066016!\n",
      "INFO:fuse.context:Using simulation config file: fuse_config_nt_sr1_dev.json\n",
      "INFO:fuse.context:Using clustering method: dbscan\n",
      "WARNING:strax:Provides of multi-output plugins overlap, deregister old plugins <class 'straxen.plugins.raw_records.daqreader.DAQReader'>.\n",
      "WARNING:strax:Provides of multi-output plugins overlap, deregister old plugins <class 'straxen.plugins.raw_records.daqreader.DAQReader'>.\n",
      "WARNING:strax:Provides of multi-output plugins overlap, deregister old plugins <class 'straxen.plugins.raw_records.daqreader.DAQReader'>.\n",
      "WARNING:strax:Provides of multi-output plugins overlap, deregister old plugins <class 'straxen.plugins.raw_records.daqreader.DAQReader'>.\n",
      "WARNING:strax:Provides of multi-output plugins overlap, deregister old plugins <class 'straxen.plugins.raw_records.daqreader.DAQReader'>.\n",
      "WARNING:strax:Provides of multi-output plugins overlap, deregister old plugins <class 'straxen.plugins.raw_records.daqreader.DAQReader'>.\n",
      "INFO:fuse.context:Overriding processing plugins:\n",
      "INFO:fuse.context:Registering <class 'fuse.plugins.processing.corrected_areas.CorrectedAreasMC'>\n",
      "WARNING:strax:Option gain_model_nv purged from context config as it is not used.\n",
      "WARNING:strax:Option gain_model_mv purged from context config as it is not used.\n",
      "WARNING:strax:Option diffusion_constant purged from context config as it is not used.\n",
      "WARNING:strax:Option hit_min_amplitude_he purged from context config as it is not used.\n",
      "WARNING:strax:Option hit_min_amplitude_mv purged from context config as it is not used.\n",
      "WARNING:strax:Option hit_min_amplitude_nv purged from context config as it is not used.\n",
      "INFO:fuse.context:[legacy] Using fdc_map_mc: XnT_3D_FDC_xyz_SR1_15_Mar_2024_MC.json.gz\n"
     ]
    }
   ],
   "source": [
    "# You only need run_id in context when you need to compute raw_records_simu\n",
    "# salt mode: reconstruction from a mixture of data and simulation\n",
    "st_salt = saltax.contexts.sxenonnt(\n",
    "    run_id=run_id,\n",
    "    corrections_version=xedocs_version,\n",
    "    saltax_mode=\"salt\",\n",
    ")\n",
    "# simu mode: reconstruction from simulation only\n",
    "st_simu = saltax.contexts.sxenonnt(\n",
    "    run_id=run_id,\n",
    "    corrections_version=xedocs_version,\n",
    "    saltax_mode=\"simu\",\n",
    ")"
   ]
  },
  {
   "cell_type": "markdown",
   "id": "5fd19212-0d3a-4204-8723-5637c145094a",
   "metadata": {},
   "source": [
    "By default, the context above will simuilate flat beta ER band at 50 Hz."
   ]
  },
  {
   "cell_type": "raw",
   "id": "44d33edf-f96c-4d61-b8c5-d120f6aac518",
   "metadata": {},
   "source": [
    "??saltax.contexts.sxenonnt"
   ]
  },
  {
   "cell_type": "code",
   "execution_count": 4,
   "id": "3f5babb5-f65b-46c7-98a6-97d1f67bb76a",
   "metadata": {},
   "outputs": [],
   "source": [
    "# Just to bind the storage so we have access to the raw_records of a small run\n",
    "st_salt.storage.append(strax.DataDirectory(\"/project2/lgrandi/tutorial_data\", readonly=True))\n",
    "st_simu.storage.append(strax.DataDirectory(\"/project2/lgrandi/tutorial_data\", readonly=True))"
   ]
  },
  {
   "cell_type": "markdown",
   "id": "0306fe19-4582-4cc8-83af-c2bbfdaf7029",
   "metadata": {},
   "source": [
    "You can take a look that some plugins are replaced while some are not."
   ]
  },
  {
   "cell_type": "code",
   "execution_count": 5,
   "id": "08d5449a-bad2-422f-89be-596b1d6b879a",
   "metadata": {},
   "outputs": [
    {
     "data": {
      "text/plain": [
       "saltax.plugins.peaklets.SPeaklets"
      ]
     },
     "execution_count": 5,
     "metadata": {},
     "output_type": "execute_result"
    }
   ],
   "source": [
    "st_simu._plugin_class_registry[\"peaklets\"]"
   ]
  },
  {
   "cell_type": "code",
   "execution_count": 6,
   "id": "a975a0b0-f3d9-40ea-8ad8-bffd9512a9f0",
   "metadata": {},
   "outputs": [
    {
     "data": {
      "text/plain": [
       "saltax.plugins.csv_input.SChunkCsvInput"
      ]
     },
     "execution_count": 6,
     "metadata": {},
     "output_type": "execute_result"
    }
   ],
   "source": [
    "st_simu._plugin_class_registry[\"microphysics_summary\"]"
   ]
  },
  {
   "cell_type": "code",
   "execution_count": 7,
   "id": "ee0860ef-53c8-4f86-937d-0b4d9d44c163",
   "metadata": {},
   "outputs": [
    {
     "data": {
      "text/plain": [
       "straxen.plugins.events.event_info.EventInfo"
      ]
     },
     "execution_count": 7,
     "metadata": {},
     "output_type": "execute_result"
    }
   ],
   "source": [
    "st_simu._plugin_class_registry[\"event_info\"]"
   ]
  },
  {
   "cell_type": "code",
   "execution_count": 8,
   "id": "73f6e92b-4718-40f4-9762-e3e3309e0807",
   "metadata": {},
   "outputs": [
    {
     "data": {
      "text/plain": [
       "cutax.cut_lists.basic.BasicCuts"
      ]
     },
     "execution_count": 8,
     "metadata": {},
     "output_type": "execute_result"
    }
   ],
   "source": [
    "st_simu._plugin_class_registry[\"cuts_basic\"]"
   ]
  },
  {
   "cell_type": "markdown",
   "id": "0b0c377c-48a5-49c9-8b6f-e11fb8143a60",
   "metadata": {},
   "source": [
    "Now let's make some data! Note that both contexts have the same hashes until `peaklets`, where the merging happens."
   ]
  },
  {
   "cell_type": "code",
   "execution_count": 9,
   "id": "b7f5a7c4-adcd-407c-a2ee-88bc4b213683",
   "metadata": {},
   "outputs": [
    {
     "data": {
      "text/plain": [
       "066016-peaklets-sjukmjuzur"
      ]
     },
     "execution_count": 9,
     "metadata": {},
     "output_type": "execute_result"
    }
   ],
   "source": [
    "st_simu.key_for(run_id, \"peaklets\")"
   ]
  },
  {
   "cell_type": "code",
   "execution_count": 10,
   "id": "7df90ab2-6888-43ea-9ba8-88102121fd7f",
   "metadata": {},
   "outputs": [
    {
     "data": {
      "text/plain": [
       "066016-records-xq4nrzt4g3"
      ]
     },
     "execution_count": 10,
     "metadata": {},
     "output_type": "execute_result"
    }
   ],
   "source": [
    "st_salt.key_for(run_id, \"records\")"
   ]
  },
  {
   "cell_type": "code",
   "execution_count": 11,
   "id": "02f4a528-15c1-4185-af75-0b17e0a2bf7e",
   "metadata": {},
   "outputs": [
    {
     "data": {
      "text/plain": [
       "066016-records-xq4nrzt4g3"
      ]
     },
     "execution_count": 11,
     "metadata": {},
     "output_type": "execute_result"
    }
   ],
   "source": [
    "st_simu.key_for(run_id, \"records\")"
   ]
  },
  {
   "cell_type": "code",
   "execution_count": 12,
   "id": "c7a6d7d2-05f4-431b-ab6d-52606b1ad73b",
   "metadata": {},
   "outputs": [
    {
     "ename": "ValueError",
     "evalue": "The global version is set to be global_v18. But InverseS2WidthCutLowER is still using ONLINE version config diffusion_constant, which is xedocs://electron_diffusion_ctes?attr=value&run_id=plugin.run_id&version=ONLINE.",
     "output_type": "error",
     "traceback": [
      "\u001b[0;31m---------------------------------------------------------------------------\u001b[0m",
      "\u001b[0;31mValueError\u001b[0m                                Traceback (most recent call last)",
      "Cell \u001b[0;32mIn[12], line 13\u001b[0m\n\u001b[1;32m      1\u001b[0m dtypes \u001b[38;5;241m=\u001b[39m [\n\u001b[1;32m      2\u001b[0m     \u001b[38;5;124m\"\u001b[39m\u001b[38;5;124mmicrophysics_summary\u001b[39m\u001b[38;5;124m\"\u001b[39m,\n\u001b[1;32m      3\u001b[0m     \u001b[38;5;124m\"\u001b[39m\u001b[38;5;124mraw_records_simu\u001b[39m\u001b[38;5;124m\"\u001b[39m,\n\u001b[0;32m   (...)\u001b[0m\n\u001b[1;32m     10\u001b[0m     \u001b[38;5;124m\"\u001b[39m\u001b[38;5;124mcuts_basic\u001b[39m\u001b[38;5;124m\"\u001b[39m,\n\u001b[1;32m     11\u001b[0m ]\n\u001b[1;32m     12\u001b[0m \u001b[38;5;28;01mfor\u001b[39;00m dt \u001b[38;5;129;01min\u001b[39;00m dtypes:\n\u001b[0;32m---> 13\u001b[0m     \u001b[43mst_salt\u001b[49m\u001b[38;5;241;43m.\u001b[39;49m\u001b[43mmake\u001b[49m\u001b[43m(\u001b[49m\u001b[43mrunid\u001b[49m\u001b[43m,\u001b[49m\u001b[43m \u001b[49m\u001b[43mdt\u001b[49m\u001b[43m,\u001b[49m\u001b[43m \u001b[49m\u001b[43msave\u001b[49m\u001b[38;5;241;43m=\u001b[39;49m\u001b[43mdt\u001b[49m\u001b[43m)\u001b[49m\n\u001b[1;32m     14\u001b[0m \u001b[38;5;28;01mfor\u001b[39;00m dt \u001b[38;5;129;01min\u001b[39;00m dtypes:\n\u001b[1;32m     15\u001b[0m     st_simu\u001b[38;5;241m.\u001b[39mmake(run_id, dt, save\u001b[38;5;241m=\u001b[39mdt)\n",
      "File \u001b[0;32m~/strax/strax/context.py:1852\u001b[0m, in \u001b[0;36mContext.make\u001b[0;34m(self, run_id, targets, save, max_workers, _skip_if_built, chunk_number, combining, **kwargs)\u001b[0m\n\u001b[1;32m   1847\u001b[0m \u001b[38;5;28;01mif\u001b[39;00m _skip_if_built \u001b[38;5;129;01mand\u001b[39;00m \u001b[38;5;28mself\u001b[39m\u001b[38;5;241m.\u001b[39mis_stored(\n\u001b[1;32m   1848\u001b[0m     run_ids[\u001b[38;5;241m0\u001b[39m], targets, chunk_number\u001b[38;5;241m=\u001b[39mchunk_number, combining\u001b[38;5;241m=\u001b[39mcombining\n\u001b[1;32m   1849\u001b[0m ):\n\u001b[1;32m   1850\u001b[0m     \u001b[38;5;28;01mreturn\u001b[39;00m\n\u001b[0;32m-> 1852\u001b[0m \u001b[43m\u001b[49m\u001b[38;5;28;43;01mfor\u001b[39;49;00m\u001b[43m \u001b[49m\u001b[43m_\u001b[49m\u001b[43m \u001b[49m\u001b[38;5;129;43;01min\u001b[39;49;00m\u001b[43m \u001b[49m\u001b[38;5;28;43mself\u001b[39;49m\u001b[38;5;241;43m.\u001b[39;49m\u001b[43mget_iter\u001b[49m\u001b[43m(\u001b[49m\n\u001b[1;32m   1853\u001b[0m \u001b[43m    \u001b[49m\u001b[43mrun_ids\u001b[49m\u001b[43m[\u001b[49m\u001b[38;5;241;43m0\u001b[39;49m\u001b[43m]\u001b[49m\u001b[43m,\u001b[49m\n\u001b[1;32m   1854\u001b[0m \u001b[43m    \u001b[49m\u001b[43mtargets\u001b[49m\u001b[43m,\u001b[49m\n\u001b[1;32m   1855\u001b[0m \u001b[43m    \u001b[49m\u001b[43msave\u001b[49m\u001b[38;5;241;43m=\u001b[39;49m\u001b[43msave\u001b[49m\u001b[43m,\u001b[49m\n\u001b[1;32m   1856\u001b[0m \u001b[43m    \u001b[49m\u001b[43mmax_workers\u001b[49m\u001b[38;5;241;43m=\u001b[39;49m\u001b[43mmax_workers\u001b[49m\u001b[43m,\u001b[49m\n\u001b[1;32m   1857\u001b[0m \u001b[43m    \u001b[49m\u001b[43mchunk_number\u001b[49m\u001b[38;5;241;43m=\u001b[39;49m\u001b[43mchunk_number\u001b[49m\u001b[43m,\u001b[49m\n\u001b[1;32m   1858\u001b[0m \u001b[43m    \u001b[49m\u001b[43mcombining\u001b[49m\u001b[38;5;241;43m=\u001b[39;49m\u001b[43mcombining\u001b[49m\u001b[43m,\u001b[49m\n\u001b[1;32m   1859\u001b[0m \u001b[43m    \u001b[49m\u001b[38;5;241;43m*\u001b[39;49m\u001b[38;5;241;43m*\u001b[39;49m\u001b[43mkwargs\u001b[49m\u001b[43m,\u001b[49m\n\u001b[1;32m   1860\u001b[0m \u001b[43m\u001b[49m\u001b[43m)\u001b[49m\u001b[43m:\u001b[49m\n\u001b[1;32m   1861\u001b[0m \u001b[43m    \u001b[49m\u001b[38;5;28;43;01mpass\u001b[39;49;00m\n",
      "File \u001b[0;32m~/strax/strax/context.py:1672\u001b[0m, in \u001b[0;36mContext.get_iter\u001b[0;34m(self, run_id, targets, save, max_workers, time_range, seconds_range, time_within, time_selection, selection, keep_columns, drop_columns, allow_multiple, progress_bar, multi_run_progress_bar, chunk_number, processor, combining, **kwargs)\u001b[0m\n\u001b[1;32m   1664\u001b[0m     \u001b[38;5;28;01melif\u001b[39;00m \u001b[38;5;28mself\u001b[39m\u001b[38;5;241m.\u001b[39mcontext_config[\u001b[38;5;124m\"\u001b[39m\u001b[38;5;124mtimeout\u001b[39m\u001b[38;5;124m\"\u001b[39m] \u001b[38;5;241m>\u001b[39m \u001b[38;5;241m7200\u001b[39m \u001b[38;5;129;01mor\u001b[39;00m (\n\u001b[1;32m   1665\u001b[0m         \u001b[38;5;28mself\u001b[39m\u001b[38;5;241m.\u001b[39mcontext_config[\u001b[38;5;124m\"\u001b[39m\u001b[38;5;124mallow_lazy\u001b[39m\u001b[38;5;124m\"\u001b[39m] \u001b[38;5;129;01mand\u001b[39;00m \u001b[38;5;129;01mnot\u001b[39;00m \u001b[38;5;28mself\u001b[39m\u001b[38;5;241m.\u001b[39mcontext_config[\u001b[38;5;124m\"\u001b[39m\u001b[38;5;124mallow_multiprocess\u001b[39m\u001b[38;5;124m\"\u001b[39m]\n\u001b[1;32m   1666\u001b[0m     ):\n\u001b[1;32m   1667\u001b[0m         \u001b[38;5;66;03m# For allow_multiple we don't want allow this when in lazy mode\u001b[39;00m\n\u001b[1;32m   1668\u001b[0m         \u001b[38;5;66;03m# with long timeouts (lazy-mode is disabled if multiprocessing\u001b[39;00m\n\u001b[1;32m   1669\u001b[0m         \u001b[38;5;66;03m# so if that is activated, we can also continue)\u001b[39;00m\n\u001b[1;32m   1670\u001b[0m         \u001b[38;5;28;01mraise\u001b[39;00m \u001b[38;5;167;01mRuntimeError\u001b[39;00m(\u001b[38;5;124mf\u001b[39m\u001b[38;5;124m\"\u001b[39m\u001b[38;5;124mCannot allow_multiple in lazy mode or with long timeouts.\u001b[39m\u001b[38;5;124m\"\u001b[39m)\n\u001b[0;32m-> 1672\u001b[0m components \u001b[38;5;241m=\u001b[39m \u001b[38;5;28;43mself\u001b[39;49m\u001b[38;5;241;43m.\u001b[39;49m\u001b[43mget_components\u001b[49m\u001b[43m(\u001b[49m\n\u001b[1;32m   1673\u001b[0m \u001b[43m    \u001b[49m\u001b[43mrun_id\u001b[49m\u001b[43m,\u001b[49m\n\u001b[1;32m   1674\u001b[0m \u001b[43m    \u001b[49m\u001b[43mtargets\u001b[49m\u001b[38;5;241;43m=\u001b[39;49m\u001b[43mtargets\u001b[49m\u001b[43m,\u001b[49m\n\u001b[1;32m   1675\u001b[0m \u001b[43m    \u001b[49m\u001b[43msave\u001b[49m\u001b[38;5;241;43m=\u001b[39;49m\u001b[43msave\u001b[49m\u001b[43m,\u001b[49m\n\u001b[1;32m   1676\u001b[0m \u001b[43m    \u001b[49m\u001b[43mtime_range\u001b[49m\u001b[38;5;241;43m=\u001b[39;49m\u001b[43mtime_range\u001b[49m\u001b[43m,\u001b[49m\n\u001b[1;32m   1677\u001b[0m \u001b[43m    \u001b[49m\u001b[43mselection\u001b[49m\u001b[38;5;241;43m=\u001b[39;49m\u001b[43mselection\u001b[49m\u001b[43m,\u001b[49m\n\u001b[1;32m   1678\u001b[0m \u001b[43m    \u001b[49m\u001b[43mkeep_columns\u001b[49m\u001b[38;5;241;43m=\u001b[39;49m\u001b[43mkeep_columns\u001b[49m\u001b[43m,\u001b[49m\n\u001b[1;32m   1679\u001b[0m \u001b[43m    \u001b[49m\u001b[43mdrop_columns\u001b[49m\u001b[38;5;241;43m=\u001b[39;49m\u001b[43mdrop_columns\u001b[49m\u001b[43m,\u001b[49m\n\u001b[1;32m   1680\u001b[0m \u001b[43m    \u001b[49m\u001b[43mchunk_number\u001b[49m\u001b[38;5;241;43m=\u001b[39;49m\u001b[43mchunk_number\u001b[49m\u001b[43m,\u001b[49m\n\u001b[1;32m   1681\u001b[0m \u001b[43m    \u001b[49m\u001b[43mmulti_run_progress_bar\u001b[49m\u001b[38;5;241;43m=\u001b[39;49m\u001b[43mmulti_run_progress_bar\u001b[49m\u001b[43m,\u001b[49m\n\u001b[1;32m   1682\u001b[0m \u001b[43m    \u001b[49m\u001b[43mcombining\u001b[49m\u001b[38;5;241;43m=\u001b[39;49m\u001b[43mcombining\u001b[49m\u001b[43m,\u001b[49m\n\u001b[1;32m   1683\u001b[0m \u001b[43m\u001b[49m\u001b[43m)\u001b[49m\n\u001b[1;32m   1685\u001b[0m \u001b[38;5;66;03m# Cleanup the temp plugins\u001b[39;00m\n\u001b[1;32m   1686\u001b[0m \u001b[38;5;28;01mfor\u001b[39;00m k \u001b[38;5;129;01min\u001b[39;00m \u001b[38;5;28mlist\u001b[39m(\u001b[38;5;28mself\u001b[39m\u001b[38;5;241m.\u001b[39m_plugin_class_registry\u001b[38;5;241m.\u001b[39mkeys()):\n",
      "File \u001b[0;32m~/straxen/straxen/config/check_global_version.py:25\u001b[0m, in \u001b[0;36mcheck_global_version_wrapper.<locals>.wrapper\u001b[0;34m(self, run_id, targets, **kwargs)\u001b[0m\n\u001b[1;32m     23\u001b[0m     arg, extra_kwargs \u001b[38;5;241m=\u001b[39m straxen\u001b[38;5;241m.\u001b[39mURLConfig\u001b[38;5;241m.\u001b[39msplit_url_kwargs(url)\n\u001b[1;32m     24\u001b[0m     \u001b[38;5;28;01mif\u001b[39;00m extra_kwargs[\u001b[38;5;124m\"\u001b[39m\u001b[38;5;124mversion\u001b[39m\u001b[38;5;124m\"\u001b[39m] \u001b[38;5;241m==\u001b[39m \u001b[38;5;124m\"\u001b[39m\u001b[38;5;124mONLINE\u001b[39m\u001b[38;5;124m\"\u001b[39m:\n\u001b[0;32m---> 25\u001b[0m         \u001b[38;5;28;01mraise\u001b[39;00m \u001b[38;5;167;01mValueError\u001b[39;00m(\n\u001b[1;32m     26\u001b[0m             \u001b[38;5;124mf\u001b[39m\u001b[38;5;124m\"\u001b[39m\u001b[38;5;124mThe global version is set to be \u001b[39m\u001b[38;5;132;01m{\u001b[39;00m\u001b[38;5;28mself\u001b[39m\u001b[38;5;241m.\u001b[39mcontext_config[\u001b[38;5;124m'\u001b[39m\u001b[38;5;124mxedocs_version\u001b[39m\u001b[38;5;124m'\u001b[39m]\u001b[38;5;132;01m}\u001b[39;00m\u001b[38;5;124m. \u001b[39m\u001b[38;5;124m\"\u001b[39m\n\u001b[1;32m     27\u001b[0m             \u001b[38;5;124mf\u001b[39m\u001b[38;5;124m\"\u001b[39m\u001b[38;5;124mBut \u001b[39m\u001b[38;5;132;01m{\u001b[39;00mplugin\u001b[38;5;241m.\u001b[39m\u001b[38;5;18m__class__\u001b[39m\u001b[38;5;241m.\u001b[39m\u001b[38;5;18m__name__\u001b[39m\u001b[38;5;132;01m}\u001b[39;00m\u001b[38;5;124m is still using ONLINE version \u001b[39m\u001b[38;5;124m\"\u001b[39m\n\u001b[1;32m     28\u001b[0m             \u001b[38;5;124mf\u001b[39m\u001b[38;5;124m\"\u001b[39m\u001b[38;5;124mconfig \u001b[39m\u001b[38;5;132;01m{\u001b[39;00mkey\u001b[38;5;132;01m}\u001b[39;00m\u001b[38;5;124m, which is \u001b[39m\u001b[38;5;132;01m{\u001b[39;00murl\u001b[38;5;132;01m}\u001b[39;00m\u001b[38;5;124m.\u001b[39m\u001b[38;5;124m\"\u001b[39m\n\u001b[1;32m     29\u001b[0m         )\n\u001b[1;32m     31\u001b[0m \u001b[38;5;28;01mreturn\u001b[39;00m func(\u001b[38;5;28mself\u001b[39m, run_id\u001b[38;5;241m=\u001b[39mrun_id, targets\u001b[38;5;241m=\u001b[39mtargets, \u001b[38;5;241m*\u001b[39m\u001b[38;5;241m*\u001b[39mkwargs)\n",
      "\u001b[0;31mValueError\u001b[0m: The global version is set to be global_v18. But InverseS2WidthCutLowER is still using ONLINE version config diffusion_constant, which is xedocs://electron_diffusion_ctes?attr=value&run_id=plugin.run_id&version=ONLINE."
     ]
    }
   ],
   "source": [
    "dtypes = [\n",
    "    \"microphysics_summary\",\n",
    "    \"raw_records_simu\",\n",
    "    \"records\",\n",
    "    \"peaklets\",\n",
    "    \"peak_basics\",\n",
    "    \"events\",\n",
    "    \"event_basics\",\n",
    "    \"event_info\",\n",
    "    \"cuts_basic\",\n",
    "]\n",
    "for dt in dtypes:\n",
    "    st_salt.make(run_id, dt, save=dt)\n",
    "for dt in dtypes:\n",
    "    st_simu.make(run_id, dt, save=dt)"
   ]
  },
  {
   "cell_type": "markdown",
   "id": "08f38a56-e888-418a-a37e-a23230dfe092",
   "metadata": {},
   "source": [
    "Let's take a quick look."
   ]
  },
  {
   "cell_type": "code",
   "execution_count": null,
   "id": "21f5ad92-faa9-413d-a456-362852c54830",
   "metadata": {},
   "outputs": [],
   "source": [
    "events_simu = st_simu.get_array(run_id, \"event_info\")\n",
    "events_salt = st_salt.get_array(run_id, \"event_info\")"
   ]
  },
  {
   "cell_type": "code",
   "execution_count": null,
   "id": "f3617cb5-48dc-4a11-a7f4-41635a28c2ae",
   "metadata": {},
   "outputs": [],
   "source": [
    "plt.figure(dpi=150)\n",
    "plt.scatter(events_salt[\"cs1\"], events_salt[\"cs2\"], alpha=0.5, label=\"Sprinkled Dataset\")\n",
    "plt.scatter(events_simu[\"cs1\"], events_simu[\"cs2\"], alpha=0.5, label=\"Simulated Dataset\")\n",
    "plt.legend()\n",
    "plt.xlim(0, 100)\n",
    "plt.ylim(0, 6000)\n",
    "plt.xlabel(\"cS1 [PE]\")\n",
    "plt.ylabel(\"cS2 [PE]\")\n",
    "plt.show()"
   ]
  },
  {
   "cell_type": "markdown",
   "id": "c5a9e3a3-321b-4526-9f7a-06ce6c05a587",
   "metadata": {},
   "source": [
    "In an ideal worlad without ambience interference, all the orange dots will be fully overlapped with a blue dot. However, it seems not from the plot. You now starts to see what is ambience interference. See [here](https://xe1t-wiki.lngs.infn.it/doku.php?id=lanqing:ambience_interference_and_sprinkling) for details."
   ]
  }
 ],
 "metadata": {
  "kernelspec": {
   "display_name": "Python 3 (ipykernel)",
   "language": "python",
   "name": "python3"
  },
  "language_info": {
   "codemirror_mode": {
    "name": "ipython",
    "version": 3
   },
   "file_extension": ".py",
   "mimetype": "text/x-python",
   "name": "python",
   "nbconvert_exporter": "python",
   "pygments_lexer": "ipython3",
   "version": "3.11.0"
  }
 },
 "nbformat": 4,
 "nbformat_minor": 5
}
