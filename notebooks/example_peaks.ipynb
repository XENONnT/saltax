{
 "cells": [
  {
   "cell_type": "markdown",
   "id": "28624e18-72b8-47d3-a721-503e68d8b3b2",
   "metadata": {},
   "source": [
    "This notebook shows sprinkling result in SR1 data, with single electrons sprinkled with realistic timing and XY from data. Since we loads lots of data with even waveforms, you'd better get 40GB for this notebook.\n",
    "\n",
    "It is expected to be running in `2024.03.1` container. \n",
    "\n",
    "There will be 3 datasets in the end:\n",
    "- `data`: Exactly the same as offline real data.\n",
    "- `simulation`: Events reconstructed using the simulation instruction only, there is nothing else in the reconstruction process.\n",
    "- `sprinkled`: Events reconstructed by mixing simulation and data. Some time it is also called `salt` and they mean the same thing.\n",
    "\n",
    "The source of simulation instruction from data SEs selected with a random 0.1FDT offset is here at `/project/lgrandi/yuanlq/salt/se_instructions`. Unlike AmBe case, here the sprinkled SEs are already having fixed instruction in directories above, with a rate of 200Hz.\n",
    "\n",
    "Lanqing & Dacheng, Jun 29 2025"
   ]
  },
  {
   "cell_type": "markdown",
   "id": "8b629e95-8cc4-4735-9750-2f51d9837046",
   "metadata": {},
   "source": [
    "# Preparation"
   ]
  },
  {
   "cell_type": "code",
   "execution_count": null,
   "id": "63130121-69b7-4efb-b4a0-d2f26a465dcd",
   "metadata": {},
   "outputs": [],
   "source": [
    "import gc\n",
    "from itertools import cycle\n",
    "from glob import glob\n",
    "from tqdm import tqdm\n",
    "from tabulate import tabulate\n",
    "import numpy as np\n",
    "import matplotlib.pyplot as plt\n",
    "import utilix\n",
    "import straxen\n",
    "import cutax\n",
    "import saltax\n",
    "from saltax.match.utils import *\n",
    "\n",
    "straxen.print_versions((\"strax\", \"straxen\", \"cutax\", \"saltax\"))"
   ]
  },
  {
   "cell_type": "code",
   "execution_count": null,
   "id": "53446cac-447b-4514-bfa6-050e4732d19e",
   "metadata": {},
   "outputs": [],
   "source": [
    "xedocs_version = \"global_v14\""
   ]
  },
  {
   "cell_type": "code",
   "execution_count": null,
   "id": "294220d1-9e74-4d96-9e2e-aa2e2d31a595",
   "metadata": {
    "scrolled": true
   },
   "outputs": [],
   "source": [
    "# Define contexts for sprinkling mode and simulation mode respectively\n",
    "st_salt = saltax.contexts.sxenonnt(\n",
    "    corrections_version=xedocs_version,\n",
    "    saltax_mode=\"salt\",\n",
    "    output_folder=\"./fuse_data\",\n",
    "    faxconf_version=\"sr0_v4\",\n",
    "    generator_name=\"se_bootstrapped\",\n",
    "    recoil=8,\n",
    ")\n",
    "st_simu = saltax.contexts.sxenonnt(\n",
    "    corrections_version=xedocs_version,\n",
    "    saltax_mode=\"simu\",\n",
    "    output_folder=\"./fuse_data\",\n",
    "    faxconf_version=\"sr0_v4\",\n",
    "    generator_name=\"se_bootstrapped\",\n",
    "    recoil=8,\n",
    ")\n",
    "\n",
    "st_salt.storage += [\n",
    "    strax.DataDirectory(\"/project/lgrandi/yuanlq/salt/se_bootstrapped\", readonly=True)\n",
    "]\n",
    "st_simu.storage += [\n",
    "    strax.DataDirectory(\"/project/lgrandi/yuanlq/salt/se_bootstrapped\", readonly=True)\n",
    "]\n",
    "\n",
    "# This is the regular straxen context to load data\n",
    "st_data = cutax.xenonnt_offline()"
   ]
  },
  {
   "cell_type": "code",
   "execution_count": null,
   "id": "d00510ca-b5f0-4923-9fd0-184f69046d01",
   "metadata": {},
   "outputs": [],
   "source": [
    "runs_with_rawdata = saltax.find_runs_with_rawdata(\n",
    "    rawdata_folders=[\n",
    "        \"/project/lgrandi/yuanlq/salt/raw_records\",\n",
    "        \"/scratch/midway2/yuanlq/salt/raw_records\",\n",
    "        \"/scratch/midway3/yuanlq/salt/raw_records\",\n",
    "    ]\n",
    ")\n",
    "runs_with_rawdata"
   ]
  },
  {
   "cell_type": "code",
   "execution_count": null,
   "id": "3346d90a-e07b-4e9f-b6ee-eee6233b6eed",
   "metadata": {},
   "outputs": [],
   "source": [
    "saltax.get_available_runs(\n",
    "    runs_with_rawdata,\n",
    "    st_salt,\n",
    "    st_simu,\n",
    "    salt_available=[\"peak_basics\", \"peak_positions_mlp\"],\n",
    "    simu_available=[],\n",
    ")"
   ]
  },
  {
   "cell_type": "code",
   "execution_count": null,
   "id": "f203c5a3-28f9-441c-bc41-e3c0fa1a4807",
   "metadata": {},
   "outputs": [],
   "source": [
    "kr83m = [\"053167\"]\n",
    "rn220 = [\"049432\", \"049433\", \"048692\", \"048693\", \"048698\"]\n",
    "ybe = [\"047876\"]"
   ]
  },
  {
   "cell_type": "code",
   "execution_count": null,
   "id": "6cfae524-1ef9-42db-97c4-246ebe570c68",
   "metadata": {},
   "outputs": [],
   "source": [
    "runid = \"053167\""
   ]
  },
  {
   "cell_type": "code",
   "execution_count": null,
   "id": "3bcdf15a-9ab9-47d1-8149-a94b55aaebad",
   "metadata": {},
   "outputs": [],
   "source": [
    "peaks = st_simu.get_array(runid, \"peaks\", seconds_range=(0, 2))\n",
    "plt.figure(dpi=150)\n",
    "for p in peaks:\n",
    "    plt.plot(np.arange(200) * p[\"dt\"], p[\"data\"])\n",
    "plt.xlabel(\"Time [ns]\")\n",
    "plt.ylabel(\"Amplitude [PE/10ns]\")\n",
    "plt.xlim(0, 2000)\n",
    "plt.title(\"Example Single Electrons Simulated\")\n",
    "plt.show()"
   ]
  },
  {
   "cell_type": "markdown",
   "id": "49dd6964-520c-4d5b-8180-6363277862ce",
   "metadata": {},
   "source": [
    "Good, on the [special wfsim version](https://github.com/XENONnT/WFSim/pull/434) our SEs look good. If it looks like combs at 250ns resolution, it means you are using the wrong `wfsim` or `fuse` version."
   ]
  },
  {
   "cell_type": "markdown",
   "id": "e196aa7f-92d7-4d07-94d5-3faf008b6bfe",
   "metadata": {},
   "source": [
    "# Let's sprinkle"
   ]
  },
  {
   "cell_type": "markdown",
   "id": "56a25bb9-12c2-4a1b-afae-7bef96f25ef0",
   "metadata": {},
   "source": [
    "## Rn220"
   ]
  },
  {
   "cell_type": "code",
   "execution_count": null,
   "id": "1a79761f-4b1b-49d9-8831-9f1381bb4814",
   "metadata": {
    "scrolled": true
   },
   "outputs": [],
   "source": [
    "(peaks_simu, peaks_salt, inds_dict) = load_peaks(rn220, st_salt, st_simu)"
   ]
  },
  {
   "cell_type": "code",
   "execution_count": null,
   "id": "f3d1186c-1a0b-4cc7-9c66-5d31962e7e20",
   "metadata": {},
   "outputs": [],
   "source": [
    "# Now peaks_salt_matched_to_simu and peaks_simu_matched_to_salt are 1-1 corresponding\n",
    "peaks_salt_matched_to_simu = peaks_salt[inds_dict[\"ind_salt_peak_found\"]]\n",
    "peaks_simu_matched_to_salt = peaks_simu[inds_dict[\"ind_simu_peak_found\"]]\n",
    "\n",
    "# Further filter out the ones whose simu fail daq cut\n",
    "mask_simu_daq_cut = saltax.apply_peaks_daq_cuts(st_data, rn220, peaks_simu_matched_to_salt)\n",
    "peaks_salt_matched_to_simu = peaks_salt_matched_to_simu[mask_simu_daq_cut]\n",
    "peaks_simu_matched_to_salt = peaks_simu_matched_to_salt[mask_simu_daq_cut]"
   ]
  },
  {
   "cell_type": "code",
   "execution_count": null,
   "id": "eace4731-567f-4c38-9779-d427a241a193",
   "metadata": {},
   "outputs": [],
   "source": [
    "plt.figure(dpi=150)\n",
    "plt.hist(\n",
    "    peaks_salt_matched_to_simu[\"area\"],\n",
    "    bins=np.linspace(0, 100, 101),\n",
    "    histtype=\"step\",\n",
    "    color=\"tab:blue\",\n",
    "    label=\"Matched Sprinkled: %sPE\"\n",
    "    % (np.round(np.median(peaks_salt_matched_to_simu[\"area\"]), decimals=2)),\n",
    ")\n",
    "plt.hist(\n",
    "    peaks_simu_matched_to_salt[\"area\"],\n",
    "    bins=np.linspace(0, 100, 101),\n",
    "    histtype=\"step\",\n",
    "    color=\"tab:red\",\n",
    "    label=\"Matched Simulated: %sPE\"\n",
    "    % (np.round(np.median(peaks_simu_matched_to_salt[\"area\"]), decimals=2)),\n",
    ")\n",
    "plt.title(\"Before Cuts SE Ambience Interference in SR1 Rn220\")\n",
    "plt.legend()\n",
    "plt.xlabel(\"Area [PE]\")\n",
    "plt.ylabel(\"Counts [AU]\")\n",
    "plt.show()"
   ]
  },
  {
   "cell_type": "code",
   "execution_count": null,
   "id": "1c1ea98f-bef3-41a2-898b-7aac8868171d",
   "metadata": {},
   "outputs": [],
   "source": [
    "plt.figure(dpi=150)\n",
    "plt.hist(\n",
    "    peaks_salt_matched_to_simu[\"area\"] - peaks_simu_matched_to_salt[\"area\"],\n",
    "    bins=np.linspace(-1, 60, 201),\n",
    "    histtype=\"step\",\n",
    "    color=\"tab:blue\",\n",
    ")\n",
    "# plt.legend()\n",
    "plt.xlabel(\"Area Sprinkled-Simulated [PE]\")\n",
    "plt.ylabel(\"Counts [AU]\")\n",
    "plt.title(\"Before Cuts SE Ambience Interference in SR1 Rn220\")\n",
    "plt.yscale(\"log\")\n",
    "plt.show()"
   ]
  },
  {
   "cell_type": "code",
   "execution_count": null,
   "id": "64136a42-2f5f-4f82-b2c6-c3eb0bbf3622",
   "metadata": {},
   "outputs": [],
   "source": [
    "plt.figure(dpi=150)\n",
    "plt.hist2d(\n",
    "    peaks_simu_matched_to_salt[\"x_mlp\"],\n",
    "    peaks_simu_matched_to_salt[\"y_mlp\"],\n",
    "    bins=(np.linspace(-65, 65, 100), np.linspace(-65, 65, 100)),\n",
    ")\n",
    "plt.xlabel(\"x [cm]\")\n",
    "plt.ylabel(\"y [cm]\")\n",
    "plt.title(\"Before Cuts Selected SE in SR1 Rn220\")\n",
    "plt.show()"
   ]
  },
  {
   "cell_type": "code",
   "execution_count": null,
   "id": "b9b128a2-7ee8-45b2-b603-6161160d91fa",
   "metadata": {},
   "outputs": [],
   "source": [
    "plt.figure(dpi=150)\n",
    "plt.hist(\n",
    "    peaks_salt_matched_to_simu[\"range_50p_area\"],\n",
    "    bins=np.linspace(0, 5e3, 100),\n",
    "    histtype=\"step\",\n",
    "    color=\"tab:blue\",\n",
    "    label=\"Matched Sprinkled\",\n",
    ")\n",
    "plt.hist(\n",
    "    peaks_simu_matched_to_salt[\"range_50p_area\"],\n",
    "    bins=np.linspace(0, 5e3, 100),\n",
    "    histtype=\"step\",\n",
    "    color=\"tab:red\",\n",
    "    label=\"Matched Simulated\",\n",
    ")\n",
    "plt.yscale(\"log\")\n",
    "plt.legend()\n",
    "plt.xlabel(\"50p width [ns]\")\n",
    "plt.title(\"Before Cuts SE Ambience Interference in SR1 Rn220\")\n",
    "plt.show()"
   ]
  },
  {
   "cell_type": "code",
   "execution_count": null,
   "id": "b1c736c3-7ca1-4cfb-9784-0970c4ee3576",
   "metadata": {},
   "outputs": [],
   "source": [
    "plt.figure(dpi=150)\n",
    "after_cuts_salt = peaks_salt_matched_to_simu[peaks_salt_matched_to_simu[\"range_90p_area\"] < 2000]\n",
    "after_cuts_simu = peaks_simu_matched_to_salt[peaks_salt_matched_to_simu[\"range_90p_area\"] < 2000]\n",
    "plt.hist(\n",
    "    after_cuts_salt[\"area\"],\n",
    "    bins=np.linspace(0, 100, 100),\n",
    "    histtype=\"step\",\n",
    "    color=\"tab:blue\",\n",
    "    label=\"Matched Sprinkled: %sPE\"\n",
    "    % (\n",
    "        np.round(np.median(after_cuts_salt[\"area\"][~np.isnan(after_cuts_salt[\"area\"])]), decimals=2)\n",
    "    ),\n",
    ")\n",
    "plt.hist(\n",
    "    after_cuts_simu[\"area\"],\n",
    "    bins=np.linspace(0, 100, 100),\n",
    "    histtype=\"step\",\n",
    "    color=\"tab:red\",\n",
    "    label=\"Matched Simulated: %sPE\"\n",
    "    % (\n",
    "        np.round(np.median(after_cuts_simu[\"area\"][~np.isnan(after_cuts_simu[\"area\"])]), decimals=2)\n",
    "    ),\n",
    ")\n",
    "plt.title(\"90p Width < 2000ns SE Ambience Interference in SR1 Rn220\")\n",
    "plt.legend()\n",
    "plt.xlabel(\"Area [PE]\")\n",
    "plt.ylabel(\"Counts [AU]\")\n",
    "plt.show()"
   ]
  },
  {
   "cell_type": "markdown",
   "id": "5374a9f3-df26-45e5-9c23-e83d60d8a85d",
   "metadata": {},
   "source": [
    "## YBe"
   ]
  },
  {
   "cell_type": "code",
   "execution_count": null,
   "id": "5569d74d-db20-4360-bfe5-f915e8eca5a9",
   "metadata": {},
   "outputs": [],
   "source": [
    "(peaks_simu, peaks_salt, inds_dict) = load_peaks(ybe, st_salt, st_simu)"
   ]
  },
  {
   "cell_type": "code",
   "execution_count": null,
   "id": "2a7b1232-c475-4c90-96aa-6575508cb717",
   "metadata": {},
   "outputs": [],
   "source": [
    "# Now peaks_salt_matched_to_simu and peaks_simu_matched_to_salt are 1-1 corresponding\n",
    "peaks_salt_matched_to_simu = peaks_salt[inds_dict[\"ind_salt_peak_found\"]]\n",
    "peaks_simu_matched_to_salt = peaks_simu[inds_dict[\"ind_simu_peak_found\"]]\n",
    "\n",
    "# Further filter out the ones whose simu fail daq cut\n",
    "mask_simu_daq_cut = saltax.apply_peaks_daq_cuts(st_data, ybe, peaks_simu_matched_to_salt)\n",
    "peaks_salt_matched_to_simu = peaks_salt_matched_to_simu[mask_simu_daq_cut]\n",
    "peaks_simu_matched_to_salt = peaks_simu_matched_to_salt[mask_simu_daq_cut]"
   ]
  },
  {
   "cell_type": "code",
   "execution_count": null,
   "id": "ee2b6206-4b66-4ba7-857a-d6643d151452",
   "metadata": {},
   "outputs": [],
   "source": [
    "plt.figure(dpi=150)\n",
    "plt.hist(\n",
    "    peaks_salt_matched_to_simu[\"area\"],\n",
    "    bins=np.linspace(0, 100, 101),\n",
    "    histtype=\"step\",\n",
    "    color=\"tab:blue\",\n",
    "    label=\"Matched Sprinkled: %sPE\"\n",
    "    % (np.round(np.median(peaks_salt_matched_to_simu[\"area\"]), decimals=2)),\n",
    ")\n",
    "plt.hist(\n",
    "    peaks_simu_matched_to_salt[\"area\"],\n",
    "    bins=np.linspace(0, 100, 101),\n",
    "    histtype=\"step\",\n",
    "    color=\"tab:red\",\n",
    "    label=\"Matched Simulated: %sPE\"\n",
    "    % (np.round(np.median(peaks_simu_matched_to_salt[\"area\"]), decimals=2)),\n",
    ")\n",
    "plt.title(\"Before Cuts SE Ambience Interference in SR1 YBe\")\n",
    "plt.legend()\n",
    "plt.xlabel(\"Area [PE]\")\n",
    "plt.ylabel(\"Counts [AU]\")\n",
    "plt.show()"
   ]
  },
  {
   "cell_type": "code",
   "execution_count": null,
   "id": "7db9aba5-c34d-4b4d-aec2-aaa465e4a84b",
   "metadata": {},
   "outputs": [],
   "source": [
    "plt.figure(dpi=150)\n",
    "plt.hist(\n",
    "    peaks_salt_matched_to_simu[\"area\"] - peaks_simu_matched_to_salt[\"area\"],\n",
    "    bins=np.linspace(-1, 60, 201),\n",
    "    histtype=\"step\",\n",
    "    color=\"tab:blue\",\n",
    ")\n",
    "# plt.legend()\n",
    "plt.xlabel(\"Area Sprinkled-Simulated [PE]\")\n",
    "plt.ylabel(\"Counts [AU]\")\n",
    "plt.title(\"Before Cuts SE Ambience Interference in SR1 YBe\")\n",
    "plt.yscale(\"log\")\n",
    "plt.show()"
   ]
  },
  {
   "cell_type": "code",
   "execution_count": null,
   "id": "acb8b807-d41d-4ac9-8731-36a51f6aea38",
   "metadata": {},
   "outputs": [],
   "source": [
    "plt.figure(dpi=150)\n",
    "plt.hist2d(\n",
    "    peaks_simu_matched_to_salt[\"x_mlp\"],\n",
    "    peaks_simu_matched_to_salt[\"y_mlp\"],\n",
    "    bins=(np.linspace(-65, 65, 100), np.linspace(-65, 65, 100)),\n",
    ")\n",
    "plt.xlabel(\"x [cm]\")\n",
    "plt.ylabel(\"y [cm]\")\n",
    "plt.title(\"Before Cuts Selected SE in SR1 YBe\")\n",
    "plt.show()"
   ]
  },
  {
   "cell_type": "code",
   "execution_count": null,
   "id": "ff09f765-83cf-47b5-86ab-94b23198744f",
   "metadata": {},
   "outputs": [],
   "source": [
    "plt.figure(dpi=150)\n",
    "plt.hist(\n",
    "    peaks_salt_matched_to_simu[\"range_50p_area\"],\n",
    "    bins=np.linspace(0, 5e3, 100),\n",
    "    histtype=\"step\",\n",
    "    color=\"tab:blue\",\n",
    "    label=\"Matched Sprinkled\",\n",
    ")\n",
    "plt.hist(\n",
    "    peaks_simu_matched_to_salt[\"range_50p_area\"],\n",
    "    bins=np.linspace(0, 5e3, 100),\n",
    "    histtype=\"step\",\n",
    "    color=\"tab:red\",\n",
    "    label=\"Matched Simulated\",\n",
    ")\n",
    "plt.yscale(\"log\")\n",
    "plt.legend()\n",
    "plt.xlabel(\"50p width [ns]\")\n",
    "plt.title(\"Before Cuts SE Ambience Interference in SR1 YBe\")\n",
    "plt.show()"
   ]
  },
  {
   "cell_type": "code",
   "execution_count": null,
   "id": "0b97b519-2a4f-4824-a6c2-7179c59051a2",
   "metadata": {},
   "outputs": [],
   "source": [
    "plt.figure(dpi=150)\n",
    "after_cuts_salt = peaks_salt_matched_to_simu[peaks_salt_matched_to_simu[\"range_90p_area\"] < 2000]\n",
    "after_cuts_simu = peaks_simu_matched_to_salt[peaks_salt_matched_to_simu[\"range_90p_area\"] < 2000]\n",
    "plt.hist(\n",
    "    after_cuts_salt[\"area\"],\n",
    "    bins=np.linspace(0, 100, 100),\n",
    "    histtype=\"step\",\n",
    "    color=\"tab:blue\",\n",
    "    label=\"Matched Sprinkled: %sPE\"\n",
    "    % (\n",
    "        np.round(np.median(after_cuts_salt[\"area\"][~np.isnan(after_cuts_salt[\"area\"])]), decimals=2)\n",
    "    ),\n",
    ")\n",
    "plt.hist(\n",
    "    after_cuts_simu[\"area\"],\n",
    "    bins=np.linspace(0, 100, 100),\n",
    "    histtype=\"step\",\n",
    "    color=\"tab:red\",\n",
    "    label=\"Matched Simulated: %sPE\"\n",
    "    % (\n",
    "        np.round(np.median(after_cuts_simu[\"area\"][~np.isnan(after_cuts_simu[\"area\"])]), decimals=2)\n",
    "    ),\n",
    ")\n",
    "plt.title(\"90p Width < 2000ns SE Ambience Interference in SR1 YBe\")\n",
    "plt.legend()\n",
    "plt.xlabel(\"Area [PE]\")\n",
    "plt.ylabel(\"Counts [AU]\")\n",
    "plt.show()"
   ]
  },
  {
   "cell_type": "markdown",
   "id": "6b74a1de-654e-4e1d-a7fd-3d9845221839",
   "metadata": {},
   "source": [
    "## Kr83m"
   ]
  },
  {
   "cell_type": "code",
   "execution_count": null,
   "id": "4861b5c9-d659-4034-ba67-f68b103507ab",
   "metadata": {},
   "outputs": [],
   "source": [
    "(peaks_simu, peaks_salt, inds_dict) = load_peaks(kr83m, st_salt, st_simu)"
   ]
  },
  {
   "cell_type": "code",
   "execution_count": null,
   "id": "283b67e9-7fcb-4ae2-ab92-8c7c750c453c",
   "metadata": {},
   "outputs": [],
   "source": [
    "# Now peaks_salt_matched_to_simu and peaks_simu_matched_to_salt are 1-1 corresponding\n",
    "peaks_salt_matched_to_simu = peaks_salt[inds_dict[\"ind_salt_peak_found\"]]\n",
    "peaks_simu_matched_to_salt = peaks_simu[inds_dict[\"ind_simu_peak_found\"]]\n",
    "\n",
    "# Further filter out the ones whose simu fail daq cut\n",
    "mask_simu_daq_cut = saltax.apply_peaks_daq_cuts(st_data, kr83m, peaks_simu_matched_to_salt)\n",
    "peaks_salt_matched_to_simu = peaks_salt_matched_to_simu[mask_simu_daq_cut]\n",
    "peaks_simu_matched_to_salt = peaks_simu_matched_to_salt[mask_simu_daq_cut]"
   ]
  },
  {
   "cell_type": "code",
   "execution_count": null,
   "id": "536276f5-f786-4e99-a298-39d3e7ff5530",
   "metadata": {},
   "outputs": [],
   "source": [
    "plt.figure(dpi=150)\n",
    "plt.hist(\n",
    "    peaks_salt_matched_to_simu[\"area\"],\n",
    "    bins=np.linspace(0, 100, 101),\n",
    "    histtype=\"step\",\n",
    "    color=\"tab:blue\",\n",
    "    label=\"Matched Sprinkled: %sPE\"\n",
    "    % (np.round(np.median(peaks_salt_matched_to_simu[\"area\"]), decimals=2)),\n",
    ")\n",
    "plt.hist(\n",
    "    peaks_simu_matched_to_salt[\"area\"],\n",
    "    bins=np.linspace(0, 100, 101),\n",
    "    histtype=\"step\",\n",
    "    color=\"tab:red\",\n",
    "    label=\"Matched Simulated: %sPE\"\n",
    "    % (np.round(np.median(peaks_simu_matched_to_salt[\"area\"]), decimals=2)),\n",
    ")\n",
    "plt.title(\"Before Cuts SE Ambience Interference in SR1 Kr83m\")\n",
    "plt.legend()\n",
    "plt.xlabel(\"Area [PE]\")\n",
    "plt.ylabel(\"Counts [AU]\")\n",
    "plt.show()"
   ]
  },
  {
   "cell_type": "code",
   "execution_count": null,
   "id": "1a072359-3c52-4814-8d0e-559ac4104b9a",
   "metadata": {},
   "outputs": [],
   "source": [
    "plt.figure(dpi=150)\n",
    "plt.hist(\n",
    "    peaks_salt_matched_to_simu[\"area\"] - peaks_simu_matched_to_salt[\"area\"],\n",
    "    bins=np.linspace(-1, 60, 201),\n",
    "    histtype=\"step\",\n",
    "    color=\"tab:blue\",\n",
    ")\n",
    "# plt.legend()\n",
    "plt.xlabel(\"Area Sprinkled-Simulated [PE]\")\n",
    "plt.ylabel(\"Counts [AU]\")\n",
    "plt.title(\"Before Cuts SE Ambience Interference in SR1 Kr83m\")\n",
    "plt.yscale(\"log\")\n",
    "plt.show()"
   ]
  },
  {
   "cell_type": "code",
   "execution_count": null,
   "id": "302c7dc0-9889-4085-8c64-13ddb4eacac6",
   "metadata": {},
   "outputs": [],
   "source": [
    "plt.figure(dpi=150)\n",
    "plt.hist2d(\n",
    "    peaks_simu_matched_to_salt[\"x_mlp\"],\n",
    "    peaks_simu_matched_to_salt[\"y_mlp\"],\n",
    "    bins=(np.linspace(-65, 65, 100), np.linspace(-65, 65, 100)),\n",
    ")\n",
    "plt.xlabel(\"x [cm]\")\n",
    "plt.ylabel(\"y [cm]\")\n",
    "plt.title(\"Before Cuts Selected SE in SR1 Kr83m\")\n",
    "plt.show()"
   ]
  },
  {
   "cell_type": "code",
   "execution_count": null,
   "id": "cc7595b4-8b01-47a5-b26a-bc02de93aaab",
   "metadata": {},
   "outputs": [],
   "source": [
    "plt.figure(dpi=150)\n",
    "plt.hist(\n",
    "    peaks_salt_matched_to_simu[\"range_50p_area\"],\n",
    "    bins=np.linspace(0, 5e3, 100),\n",
    "    histtype=\"step\",\n",
    "    color=\"tab:blue\",\n",
    "    label=\"Matched Sprinkled\",\n",
    ")\n",
    "plt.hist(\n",
    "    peaks_simu_matched_to_salt[\"range_50p_area\"],\n",
    "    bins=np.linspace(0, 5e3, 100),\n",
    "    histtype=\"step\",\n",
    "    color=\"tab:red\",\n",
    "    label=\"Matched Simulated\",\n",
    ")\n",
    "plt.yscale(\"log\")\n",
    "plt.legend()\n",
    "plt.xlabel(\"50p width [ns]\")\n",
    "plt.title(\"Before Cuts SE Ambience Interference in SR1 Kr83m\")\n",
    "plt.show()"
   ]
  },
  {
   "cell_type": "markdown",
   "id": "9e67fdaa-b3d2-4b6a-b67b-4b4348d45bf2",
   "metadata": {},
   "source": [
    "Let's apply a brutal width cut"
   ]
  },
  {
   "cell_type": "code",
   "execution_count": null,
   "id": "be58044e-23f8-4d98-920a-016a020719bb",
   "metadata": {},
   "outputs": [],
   "source": [
    "plt.figure(dpi=150)\n",
    "after_cuts_salt = peaks_salt_matched_to_simu[peaks_salt_matched_to_simu[\"range_90p_area\"] < 2000]\n",
    "after_cuts_simu = peaks_simu_matched_to_salt[peaks_salt_matched_to_simu[\"range_90p_area\"] < 2000]\n",
    "plt.hist(\n",
    "    after_cuts_salt[\"area\"],\n",
    "    bins=np.linspace(0, 100, 100),\n",
    "    histtype=\"step\",\n",
    "    color=\"tab:blue\",\n",
    "    label=\"Matched Sprinkled: %sPE\"\n",
    "    % (\n",
    "        np.round(np.median(after_cuts_salt[\"area\"][~np.isnan(after_cuts_salt[\"area\"])]), decimals=2)\n",
    "    ),\n",
    ")\n",
    "plt.hist(\n",
    "    after_cuts_simu[\"area\"],\n",
    "    bins=np.linspace(0, 100, 100),\n",
    "    histtype=\"step\",\n",
    "    color=\"tab:red\",\n",
    "    label=\"Matched Simulated: %sPE\"\n",
    "    % (\n",
    "        np.round(np.median(after_cuts_simu[\"area\"][~np.isnan(after_cuts_simu[\"area\"])]), decimals=2)\n",
    "    ),\n",
    ")\n",
    "plt.title(\"90p Width < 2000ns SE Ambience Interference in SR1 Kr83m\")\n",
    "plt.legend()\n",
    "plt.xlabel(\"Area [PE]\")\n",
    "plt.ylabel(\"Counts [AU]\")\n",
    "plt.show()"
   ]
  },
  {
   "cell_type": "markdown",
   "id": "68e0d626-46bf-4225-a50f-9ea269688049",
   "metadata": {},
   "source": [
    "# Waveforms"
   ]
  },
  {
   "cell_type": "markdown",
   "id": "c7af36c1-251a-4fc1-8799-0567e1b7300c",
   "metadata": {},
   "source": [
    "Let's watch some waveforms for those who get increased in area for sprinkled dataset. You will need 40GB RAM to run this section."
   ]
  },
  {
   "cell_type": "code",
   "execution_count": null,
   "id": "8507fd50-df9a-455e-9e24-f25a23ee13e2",
   "metadata": {},
   "outputs": [],
   "source": [
    "# This one loads waveforms so it should be heavy and slow!\n",
    "(peaks_simu, peaks_salt, inds_dict) = load_peaks(\n",
    "    [runid],\n",
    "    st_salt,\n",
    "    st_simu,\n",
    "    plugins=(\n",
    "        \"peak_basics\",\n",
    "        \"peak_positions_mlp\",\n",
    "        \"peaks\",\n",
    "    ),  # Just adding peaks so that you have waveforms\n",
    ")"
   ]
  },
  {
   "cell_type": "code",
   "execution_count": null,
   "id": "a730805f-d223-4bab-9f2e-faa43d7637eb",
   "metadata": {},
   "outputs": [],
   "source": [
    "# Now peaks_salt_matched_to_simu and peaks_simu_matched_to_salt are 1-1 corresponding\n",
    "peaks_salt_matched_to_simu = peaks_salt[inds_dict[\"ind_salt_peak_found\"]]\n",
    "peaks_simu_matched_to_salt = peaks_simu[inds_dict[\"ind_simu_peak_found\"]]\n",
    "\n",
    "# Further filter out the ones whose simu fail daq cut\n",
    "mask_simu_daq_cut = saltax.apply_peaks_daq_cuts(st_data, [runid], peaks_simu_matched_to_salt)\n",
    "peaks_salt_matched_to_simu = peaks_salt_matched_to_simu[mask_simu_daq_cut]\n",
    "peaks_simu_matched_to_salt = peaks_simu_matched_to_salt[mask_simu_daq_cut]"
   ]
  },
  {
   "cell_type": "code",
   "execution_count": null,
   "id": "4e2fcc93-2d1e-47a2-8b41-d90a7d50d9df",
   "metadata": {},
   "outputs": [],
   "source": [
    "abnormal_mask = peaks_salt_matched_to_simu[\"area\"] - peaks_simu_matched_to_salt[\"area\"] > 1\n",
    "ind = 0\n",
    "plt.figure(dpi=150)\n",
    "p_salt = peaks_salt_matched_to_simu[abnormal_mask][ind]\n",
    "p_simu = peaks_simu_matched_to_salt[abnormal_mask][ind]\n",
    "plt.plot(\n",
    "    np.arange(200) * p_salt[\"dt\"],\n",
    "    p_salt[\"data\"] / p_salt[\"dt\"],\n",
    "    color=\"tab:blue\",\n",
    "    alpha=0.5,\n",
    "    label=\"Sprinkled:%sPE\" % (np.round(p_salt[\"area\"], decimals=2)),\n",
    ")\n",
    "plt.plot(\n",
    "    np.arange(200) * p_simu[\"dt\"],\n",
    "    p_simu[\"data\"] / p_simu[\"dt\"],\n",
    "    color=\"tab:red\",\n",
    "    alpha=0.5,\n",
    "    label=\"Simulated:%sPE\" % (np.round(p_simu[\"area\"], decimals=2)),\n",
    ")\n",
    "plt.xlabel(\"Time [ns]\")\n",
    "plt.ylabel(\"Amplitude [PE/ns]\")\n",
    "plt.legend()\n",
    "plt.title(\"Sprinkled-Simulated Area > 1 PE Waveforms in SR1 Kr83m\")\n",
    "plt.show()"
   ]
  },
  {
   "cell_type": "code",
   "execution_count": null,
   "id": "02630224-93cb-4149-b569-709e12803d9d",
   "metadata": {},
   "outputs": [],
   "source": [
    "abnormal_mask = peaks_salt_matched_to_simu[\"area\"] - peaks_simu_matched_to_salt[\"area\"] > 1\n",
    "ind = 16\n",
    "plt.figure(dpi=150)\n",
    "p_salt = peaks_salt_matched_to_simu[abnormal_mask][ind]\n",
    "p_simu = peaks_simu_matched_to_salt[abnormal_mask][ind]\n",
    "plt.plot(\n",
    "    np.arange(200) * p_salt[\"dt\"],\n",
    "    p_salt[\"data\"] / p_salt[\"dt\"],\n",
    "    color=\"tab:blue\",\n",
    "    alpha=0.5,\n",
    "    label=\"Sprinkled:%sPE\" % (np.round(p_salt[\"area\"], decimals=2)),\n",
    ")\n",
    "plt.plot(\n",
    "    np.arange(200) * p_simu[\"dt\"],\n",
    "    p_simu[\"data\"] / p_simu[\"dt\"],\n",
    "    color=\"tab:red\",\n",
    "    alpha=0.5,\n",
    "    label=\"Simulated:%sPE\" % (np.round(p_simu[\"area\"], decimals=2)),\n",
    ")\n",
    "plt.xlabel(\"Time [ns]\")\n",
    "plt.ylabel(\"Amplitude [PE/ns]\")\n",
    "plt.legend()\n",
    "plt.title(\"Sprinkled-Simulated Area > 1 PE Waveforms in SR1 Kr83m\")\n",
    "plt.show()"
   ]
  },
  {
   "cell_type": "code",
   "execution_count": null,
   "id": "3a91c7ea-fa1e-425b-9414-85d186356020",
   "metadata": {},
   "outputs": [],
   "source": [
    "abnormal_mask = peaks_salt_matched_to_simu[\"area\"] - peaks_simu_matched_to_salt[\"area\"] > 1\n",
    "ind = 66\n",
    "plt.figure(dpi=150)\n",
    "p_salt = peaks_salt_matched_to_simu[abnormal_mask][ind]\n",
    "p_simu = peaks_simu_matched_to_salt[abnormal_mask][ind]\n",
    "plt.plot(\n",
    "    np.arange(200) * p_salt[\"dt\"],\n",
    "    p_salt[\"data\"] / p_salt[\"dt\"],\n",
    "    color=\"tab:blue\",\n",
    "    alpha=0.5,\n",
    "    label=\"Sprinkled:%sPE\" % (np.round(p_salt[\"area\"], decimals=2)),\n",
    ")\n",
    "plt.plot(\n",
    "    np.arange(200) * p_simu[\"dt\"],\n",
    "    p_simu[\"data\"] / p_simu[\"dt\"],\n",
    "    color=\"tab:red\",\n",
    "    alpha=0.5,\n",
    "    label=\"Simulated:%sPE\" % (np.round(p_simu[\"area\"], decimals=2)),\n",
    ")\n",
    "plt.xlabel(\"Time [ns]\")\n",
    "plt.ylabel(\"Amplitude [PE/ns]\")\n",
    "plt.legend()\n",
    "plt.title(\"Sprinkled-Simulated Area > 1 PE Waveforms in SR1 Kr83m\")\n",
    "plt.show()"
   ]
  }
 ],
 "metadata": {
  "kernelspec": {
   "display_name": "Python 3 (ipykernel)",
   "language": "python",
   "name": "python3"
  },
  "language_info": {
   "codemirror_mode": {
    "name": "ipython",
    "version": 3
   },
   "file_extension": ".py",
   "mimetype": "text/x-python",
   "name": "python",
   "nbconvert_exporter": "python",
   "pygments_lexer": "ipython3",
   "version": "3.9.19"
  }
 },
 "nbformat": 4,
 "nbformat_minor": 5
}
