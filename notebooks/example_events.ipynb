{
 "cells": [
  {
   "cell_type": "markdown",
   "id": "47597986-654a-48ac-9590-5e0940eb913c",
   "metadata": {},
   "source": [
    "This notebook checks result from sprinkling full-chain based AmBe neutrons into AmBe runs, which is also pretty much a tutorial for this package when sprinkling events. It is expected to be running in `2024.03.1` container. \n",
    "\n",
    "The source of simulation instruction from full-chain simulation is here at `/project/lgrandi/yuanlq/salt/ambe_instructions/minghao_aptinput.csv`. When sprinkling, we bootstrap events from the instruction above, and add an offset so that the sprinkled AmBe neutron event shows up at 50Hz.\n",
    "\n",
    "There will be 3 datasets in the end:\n",
    "- `data`: Exactly the same as `v14` offline real data.\n",
    "- `simulation`: Events reconstructed using the simulation instruction only, there is nothing else in the reconstruction process.\n",
    "- `sprinkled`: Events reconstructed by mixing simulation and data. Some time it is also called `salt` and they mean the same thing. \n",
    "\n",
    "By comparing `simulation` and `sprinkled`, we will be able to understand the ambience interference effect in reconstruction.\n",
    "\n",
    "Lanqing, Mar 27 2024 (Editted Apr 01 2024)"
   ]
  },
  {
   "cell_type": "markdown",
   "id": "e034079b-cae9-4586-9ba4-0122e2ef4c8d",
   "metadata": {},
   "source": [
    "# Preparation"
   ]
  },
  {
   "cell_type": "code",
   "execution_count": null,
   "id": "b1598a22-18c8-4664-bbfc-7c43b95277d1",
   "metadata": {},
   "outputs": [],
   "source": [
    "import saltax\n",
    "import straxen\n",
    "import cutax\n",
    "from tqdm import tqdm\n",
    "import gc\n",
    "import numpy as np\n",
    "import matplotlib.pyplot as plt\n",
    "from tabulate import tabulate\n",
    "from itertools import cycle\n",
    "from saltax.match.utils import *\n",
    "\n",
    "import warnings\n",
    "\n",
    "warnings.filterwarnings(\"ignore\")\n",
    "\n",
    "print(\"saltax:\", saltax.__version__, saltax.__file__)\n",
    "straxen.print_versions()"
   ]
  },
  {
   "cell_type": "markdown",
   "id": "0149dc44-05ad-48af-b2a5-6ed323312788",
   "metadata": {},
   "source": [
    "Below are the AmBe runs available at `/project/lgrandi/yuanlq/salt/ambe`."
   ]
  },
  {
   "cell_type": "code",
   "execution_count": null,
   "id": "eb82a4fa-00b9-40b1-861d-ed6df97bd881",
   "metadata": {},
   "outputs": [],
   "source": [
    "runs = [\n",
    "    \"051938\",\n",
    "    \"051914\",\n",
    "    \"051907\",\n",
    "    \"051905\",\n",
    "    \"051908\",\n",
    "    \"051904\",\n",
    "    \"051906\",\n",
    "    \"051909\",\n",
    "    \"051911\",\n",
    "    \"051913\",\n",
    "    \"051939\",\n",
    "    \"051910\",\n",
    "]"
   ]
  },
  {
   "cell_type": "markdown",
   "id": "b9df15d6-35c8-4ceb-b30c-5cba7d7b375c",
   "metadata": {},
   "source": [
    "In `saltax`, we need to do slightly different context definition, by specifying more information about the simulation."
   ]
  },
  {
   "cell_type": "code",
   "execution_count": null,
   "id": "e688aedb-94a2-453f-b85f-ce7d48d8920b",
   "metadata": {
    "scrolled": true
   },
   "outputs": [],
   "source": [
    "st_salt = saltax.contexts.sxenonnt(\n",
    "    saltax_mode=\"salt\",\n",
    "    output_folder=\"/project/lgrandi/yuanlq/salt/ambe\",\n",
    "    faxconf_version=\"sr0_v4\",\n",
    "    generator_name=\"ambe\",\n",
    "    recoil=0,\n",
    ")\n",
    "st_simu = saltax.contexts.sxenonnt(\n",
    "    saltax_mode=\"simu\",\n",
    "    output_folder=\"/project/lgrandi/yuanlq/salt/ambe\",\n",
    "    faxconf_version=\"sr0_v4\",\n",
    "    generator_name=\"ambe\",\n",
    "    recoil=0,\n",
    ");"
   ]
  },
  {
   "cell_type": "code",
   "execution_count": null,
   "id": "d837863a-a74b-4dba-b03e-dd3599da0170",
   "metadata": {
    "scrolled": true
   },
   "outputs": [],
   "source": [
    "# Load events\n",
    "(\n",
    "    events_simu,  # all events (with S1+S2 topology) reconstructed in simulation dataset\n",
    "    events_salt,  # all events reconstructed in sprinkled dataset\n",
    "    inds_dict,  # index for matching\n",
    ") = saltax.load_events(\n",
    "    runs, st_salt, st_simu\n",
    ");  # event_info + cuts_basic"
   ]
  },
  {
   "cell_type": "markdown",
   "id": "06bc9312-c74d-4d2d-9ea8-6a97d4b7cb9d",
   "metadata": {},
   "source": [
    "# Overview of simulation only"
   ]
  },
  {
   "cell_type": "markdown",
   "id": "7138203a-5386-4b13-af1c-3ef1530ea02c",
   "metadata": {},
   "source": [
    "This dataset should be considered without any ambience interference. The cuts considered are\n",
    "```python\n",
    "AmBe_CUTS_EXCEPT_S2Pattern = np.array([\n",
    "            'cut_daq_veto',\n",
    "            'cut_interaction_exists',\n",
    "            'cut_main_is_valid_triggering_peak',\n",
    "            'cut_run_boundaries',\n",
    "            'cut_s1_area_fraction_top',\n",
    "            'cut_s1_max_pmt',\n",
    "            'cut_s1_width'\n",
    "            'cut_s1_pattern_bottom',\n",
    "            'cut_s1_pattern_top',\n",
    "            'cut_s1_single_scatter',\n",
    "            'cut_s1_tightcoin_3fold',\n",
    "            'cut_s2_recon_pos_diff',\n",
    "            'cut_s2_single_scatter',\n",
    "            'cut_s2_width',\n",
    "            'cut_cs2_area_fraction_top',])\n",
    "```\n",
    "\n",
    "You can see that those events are from source position `topCW7d8m`"
   ]
  },
  {
   "cell_type": "code",
   "execution_count": null,
   "id": "7c739ca8-2965-48ad-a1c3-8bbb4518c411",
   "metadata": {},
   "outputs": [],
   "source": [
    "mask_simu_only_cut = apply_cut_lists(\n",
    "    events_simu, AmBe_CUTS_EXCEPT_S2Pattern  # Compromise based on waveform simulation quality\n",
    ")\n",
    "mask_simu_only_min = apply_cut_lists(events_simu, ALL_CUTS_MINIMAL)  # Minimal cuts\n",
    "\n",
    "plt.figure(dpi=150)\n",
    "plt.scatter(events_simu[\"cs1\"], events_simu[\"cs2\"], color=\"tab:blue\", s=2, label=\"Before Cuts\")\n",
    "plt.scatter(\n",
    "    events_simu[mask_simu_only_min][\"cs1\"],\n",
    "    events_simu[mask_simu_only_min][\"cs2\"],\n",
    "    color=\"tab:orange\",\n",
    "    s=2,\n",
    "    label=\"After Minimal Cuts\",\n",
    ")\n",
    "plt.scatter(\n",
    "    events_simu[mask_simu_only_cut][\"cs1\"],\n",
    "    events_simu[mask_simu_only_cut][\"cs2\"],\n",
    "    color=\"tab:red\",\n",
    "    s=2,\n",
    "    label=\"After AmBe_CUTS_EXCEPT_S2Pattern\",\n",
    ")\n",
    "plt.xlim(0, 100)\n",
    "plt.ylim(0, 6500)\n",
    "plt.xlabel(\"CS1 [PE]\")\n",
    "plt.ylabel(\"CS2 [PE]\")\n",
    "plt.title(\"Full-chain Simulated AmBe Neutrons\")\n",
    "plt.legend()\n",
    "plt.show()"
   ]
  },
  {
   "cell_type": "code",
   "execution_count": null,
   "id": "008a21d3-11a3-4271-8c52-0e4ea937088b",
   "metadata": {},
   "outputs": [],
   "source": [
    "plt.figure(dpi=150)\n",
    "plt.scatter(events_simu[\"x\"], events_simu[\"y\"], color=\"tab:blue\", s=2, label=\"Before Cuts\")\n",
    "plt.scatter(\n",
    "    events_simu[mask_simu_only_min][\"x\"],\n",
    "    events_simu[mask_simu_only_min][\"y\"],\n",
    "    color=\"tab:orange\",\n",
    "    s=2,\n",
    "    label=\"After Minimal Cuts\",\n",
    ")\n",
    "plt.scatter(\n",
    "    events_simu[mask_simu_only_cut][\"x\"],\n",
    "    events_simu[mask_simu_only_cut][\"y\"],\n",
    "    color=\"tab:red\",\n",
    "    s=2,\n",
    "    label=\"After AmBe_CUTS_EXCEPT_S2Pattern\",\n",
    ")\n",
    "plt.xlim(-70, 70)\n",
    "plt.ylim(-70, 70)\n",
    "plt.title(\"Full-chain Simulated AmBe Neutrons\")\n",
    "plt.xlabel(\"x [cm]\")\n",
    "plt.ylabel(\"y [cm]\")\n",
    "plt.legend()"
   ]
  },
  {
   "cell_type": "code",
   "execution_count": null,
   "id": "e1ab83ad-5a08-4d46-87e6-6817fe32bf55",
   "metadata": {},
   "outputs": [],
   "source": [
    "plt.figure(dpi=150)\n",
    "plt.scatter(\n",
    "    events_simu[\"x\"] ** 2 + events_simu[\"y\"] ** 2,\n",
    "    events_simu[\"z\"],\n",
    "    color=\"tab:blue\",\n",
    "    s=2,\n",
    "    label=\"Before Cuts\",\n",
    ")\n",
    "plt.scatter(\n",
    "    events_simu[mask_simu_only_min][\"x\"] ** 2 + events_simu[mask_simu_only_min][\"y\"] ** 2,\n",
    "    events_simu[mask_simu_only_min][\"z\"],\n",
    "    color=\"tab:orange\",\n",
    "    s=2,\n",
    "    label=\"After Minimal Cuts\",\n",
    ")\n",
    "plt.scatter(\n",
    "    events_simu[mask_simu_only_cut][\"x\"] ** 2 + events_simu[mask_simu_only_cut][\"y\"] ** 2,\n",
    "    events_simu[mask_simu_only_cut][\"z\"],\n",
    "    color=\"tab:red\",\n",
    "    s=2,\n",
    "    label=\"After AmBe_CUTS_EXCEPT_S2Pattern\",\n",
    ")\n",
    "plt.xlim(0, 4900)\n",
    "plt.ylim(-150, 0)\n",
    "plt.title(\"Full-chain Simulated AmBe Neutrons\")\n",
    "plt.xlabel(r\"$r^2[cm^2]$\")\n",
    "plt.ylabel(\"z[cm]\")\n",
    "plt.legend()"
   ]
  },
  {
   "cell_type": "markdown",
   "id": "f118c2bb-b5f4-4c9f-83d9-265c1055c1d6",
   "metadata": {},
   "source": [
    "# Let's sprinkle!"
   ]
  },
  {
   "cell_type": "markdown",
   "id": "ce788c14-de84-4b01-8dc6-945ea5a2f991",
   "metadata": {},
   "source": [
    "## Analysis wrapper"
   ]
  },
  {
   "cell_type": "markdown",
   "id": "e5ea2e05-0477-4d35-8c70-6c9f5694b035",
   "metadata": {},
   "source": [
    "Here we just define a collection of analysis visualization defined in `saltax.utils`"
   ]
  },
  {
   "cell_type": "code",
   "execution_count": null,
   "id": "20e1ddb7-ea78-4946-8c81-dc28a761c4c7",
   "metadata": {},
   "outputs": [],
   "source": [
    "def super_mega_analysis(\n",
    "    events_salt_matched_to_simu,\n",
    "    events_simu_matched_to_salt,\n",
    "    cut_list=AmBe_CUTS_EXCEPT_S2PatternS1Width,\n",
    "):\n",
    "    print(\"Cut acceptance without N-1\")\n",
    "    get_single_cut_acc(\n",
    "        events_salt_matched_to_simu, events_simu_matched_to_salt, all_cut_list=cut_list\n",
    "    )\n",
    "    print(\"Cut acceptance with N-1\")\n",
    "    get_n_minus_1_cut_acc(\n",
    "        events_salt_matched_to_simu, events_simu_matched_to_salt, all_cut_list=cut_list\n",
    "    )\n",
    "\n",
    "    compare_templates(\n",
    "        events_salt_matched_to_simu[apply_cut_lists(events_salt_matched_to_simu, cut_list)],\n",
    "        events_simu_matched_to_salt[apply_cut_lists(events_simu_matched_to_salt, cut_list)],\n",
    "        n_bins=16,\n",
    "        title=\"With Cuts Ambience Interference in SR1 AmBe HEV\",\n",
    "    )\n",
    "\n",
    "    _ambe_s1_cut_eff = get_cut_eff(\n",
    "        events_salt_matched_to_simu,\n",
    "        all_cut_list=cut_list,\n",
    "        n_bins=16,\n",
    "        coord=\"s1_area\",\n",
    "        plot=True,\n",
    "        indv_cut_type=\"n_minus_1\",\n",
    "        title=\"N-1 Cut Acceptance Measured in SR1 AmBe\",\n",
    "    )\n",
    "    _ambe_s2_cut_eff = get_cut_eff(\n",
    "        events_salt_matched_to_simu,\n",
    "        all_cut_list=cut_list,\n",
    "        n_bins=16,\n",
    "        coord=\"s2_area\",\n",
    "        plot=True,\n",
    "        indv_cut_type=\"n_minus_1\",\n",
    "        title=\"N-1 Cut Acceptance Measured in SR1 AmBe\",\n",
    "    )\n",
    "    _ambe_z_cut_eff = get_cut_eff(\n",
    "        events_salt_matched_to_simu,\n",
    "        all_cut_list=cut_list,\n",
    "        n_bins=16,\n",
    "        coord=\"z\",\n",
    "        plot=True,\n",
    "        indv_cut_type=\"n_minus_1\",\n",
    "        title=\"N-1 Cut Acceptance Measured in SR1 AmBe\",\n",
    "    )\n",
    "\n",
    "    mask_simu_cut = apply_cut_lists(events_simu_matched_to_salt, cut_list)\n",
    "    ambe_s1_cut_eff = get_cut_eff(\n",
    "        events_salt_matched_to_simu[mask_simu_cut],\n",
    "        all_cut_list=cut_list,\n",
    "        n_bins=16,\n",
    "        coord=\"s1_area\",\n",
    "        plot=True,\n",
    "        indv_cut_type=\"n_minus_1\",\n",
    "        title=\"Conditional N-1 Cut Acceptance Measured in SR1 AmBe\",\n",
    "    )\n",
    "    ambe_s2_cut_eff = get_cut_eff(\n",
    "        events_salt_matched_to_simu[mask_simu_cut],\n",
    "        all_cut_list=cut_list,\n",
    "        n_bins=16,\n",
    "        coord=\"s2_area\",\n",
    "        plot=True,\n",
    "        indv_cut_type=\"n_minus_1\",\n",
    "        title=\"Conditional N-1 Cut Acceptance Measured in SR1 AmBe\",\n",
    "    )\n",
    "    ambe_z_cut_eff = get_cut_eff(\n",
    "        events_salt_matched_to_simu[mask_simu_cut],\n",
    "        all_cut_list=cut_list,\n",
    "        n_bins=16,\n",
    "        coord=\"z\",\n",
    "        plot=True,\n",
    "        indv_cut_type=\"n_minus_1\",\n",
    "        title=\"Conditional N-1 Cut Acceptance Measured in SR1 AmBe\",\n",
    "    )\n",
    "\n",
    "    mask_salt_cut = apply_cut_lists(events_salt_matched_to_simu, cut_list)\n",
    "    compare_bands(\n",
    "        events_salt_matched_to_simu[mask_salt_cut],\n",
    "        events_simu_matched_to_salt[mask_salt_cut],\n",
    "        title=\"After Cuts Ambience Interference in SR1 AmBe HEV\",\n",
    "        coords=[\"z\", \"s2_range_50p_area\"],\n",
    "        n_bins=16,\n",
    "    )\n",
    "    compare_bands(\n",
    "        events_salt_matched_to_simu[mask_salt_cut],\n",
    "        events_simu_matched_to_salt[mask_salt_cut],\n",
    "        title=\"After Cuts Ambience Interference in SR1 AmBe HEV\",\n",
    "        coords=[\"z\", \"s2_range_90p_area\"],\n",
    "        n_bins=16,\n",
    "    )\n",
    "    compare_bands(\n",
    "        events_salt_matched_to_simu[mask_salt_cut],\n",
    "        events_simu_matched_to_salt[mask_salt_cut],\n",
    "        title=\"After Cuts Ambience Interference in SR1 AmBe HEV\",\n",
    "        coords=[\"s1_area\", \"s1_rise_time\"],\n",
    "        n_bins=16,\n",
    "    )\n",
    "    compare_bands(\n",
    "        events_salt_matched_to_simu[mask_salt_cut],\n",
    "        events_simu_matched_to_salt[mask_salt_cut],\n",
    "        title=\"After Cuts Ambience Interference in SR1 AmBe HEV\",\n",
    "        coords=[\"s1_area\", \"s1_range_50p_area\"],\n",
    "        n_bins=16,\n",
    "    )\n",
    "    compare_bands(\n",
    "        events_salt_matched_to_simu[mask_salt_cut],\n",
    "        events_simu_matched_to_salt[mask_salt_cut],\n",
    "        title=\"After Cuts Ambience Interference in SR1 AmBe HEV\",\n",
    "        coords=[\"s1_area\", \"s1_range_90p_area\"],\n",
    "        n_bins=16,\n",
    "    )\n",
    "\n",
    "    show_area_bias(\n",
    "        events_salt_matched_to_simu[mask_salt_cut & mask_simu_cut],\n",
    "        events_simu_matched_to_salt[mask_salt_cut & mask_simu_cut],\n",
    "        title=\"After Cuts Ambience Interference in SR1 AmBe HEV\",\n",
    "        fraction=True,\n",
    "        coord=\"s1_area\",\n",
    "        s1s2=\"s1\",\n",
    "        n_bins=16,\n",
    "        ylim=(-10, 30),\n",
    "    )\n",
    "    show_area_bias(\n",
    "        events_salt_matched_to_simu[mask_salt_cut & mask_simu_cut],\n",
    "        events_simu_matched_to_salt[mask_salt_cut & mask_simu_cut],\n",
    "        title=\"After Cuts Ambience Interference in SR1 AmBe HEV\",\n",
    "        fraction=True,\n",
    "        coord=\"s2_area\",\n",
    "        s1s2=\"s2\",\n",
    "        n_bins=16,\n",
    "        ylim=(-10, 30),\n",
    "    )\n",
    "    # show_area_bias(\n",
    "    #    events_salt_matched_to_simu[mask_salt_cut&mask_simu_cut],\n",
    "    #    events_simu_matched_to_salt[mask_salt_cut&mask_simu_cut],\n",
    "    #    title='After Cuts Ambience Interference in SR1 AmBe HEV',\n",
    "    #    coord='z',\n",
    "    #    s1s2='S2',\n",
    "    #    n_bins=16,\n",
    "    #    ylim=(-2,100)\n",
    "    # )"
   ]
  },
  {
   "cell_type": "markdown",
   "id": "506840f2-af84-4d1c-8c75-db5e07e1a9cd",
   "metadata": {},
   "source": [
    "## Event building efficiency"
   ]
  },
  {
   "cell_type": "markdown",
   "id": "1a70b928-a53c-4824-b93c-d807e939e637",
   "metadata": {},
   "source": [
    "Assume we use match S1 time to account for event building efficiency, because it is closest to our NV tagging workflow. We need to account for the event loss in matching simulation to sprinkled, before any cuts. The loss comes from \n",
    "- `n_competing` event building loss\n",
    "- Small physical S1/S2s beaten by uncorrelated S1/S2 from ambience, and the physical ones become `alt_s1`/`alt_s2`.\n",
    "- Small S1s get merged with near by hits and get misidentified as S2\n",
    "\n",
    "However, **keep in mind that this cannot reproduce the case when NV gamma coincides with unphysical S1 in TPC.**"
   ]
  },
  {
   "cell_type": "markdown",
   "id": "c3d3cc93-0b5d-4ce4-88ee-df2de581fae7",
   "metadata": {},
   "source": [
    "NB: in this notebook, minimal cuts are defined as\n",
    "```python\n",
    "ALL_CUTS_MINIMAL = np.array([\n",
    "    'cut_daq_veto', \n",
    "    'cut_interaction_exists', \n",
    "    'cut_main_is_valid_triggering_peak', \n",
    "    'cut_run_boundaries',\n",
    "])\n",
    "AmBe_CUTS_EXCEPT_S2Pattern = np.array([\n",
    "            'cut_daq_veto',\n",
    "            'cut_interaction_exists',\n",
    "            'cut_main_is_valid_triggering_peak',\n",
    "            'cut_run_boundaries',\n",
    "            'cut_s1_area_fraction_top',\n",
    "            'cut_s1_max_pmt',\n",
    "            'cut_s1_pattern_bottom',\n",
    "            'cut_s1_pattern_top',\n",
    "            'cut_s1_single_scatter',\n",
    "            'cut_s1_tightcoin_3fold',\n",
    "            'cut_s1_width',\n",
    "            'cut_s2_recon_pos_diff',\n",
    "            'cut_s2_single_scatter',\n",
    "            'cut_s2_width',\n",
    "            'cut_cs2_area_fraction_top',\n",
    "])\n",
    "```"
   ]
  },
  {
   "cell_type": "code",
   "execution_count": null,
   "id": "25dd3cd4-f3ba-4fe3-8465-e0bc034a160d",
   "metadata": {},
   "outputs": [],
   "source": [
    "# Use the indices in inds_dict to do matching\n",
    "events_salt_matched_to_simu = events_salt[inds_dict[\"ind_salt_s1_found\"]]\n",
    "events_simu_matched_to_salt = events_simu[inds_dict[\"ind_simu_s1_found\"]]\n",
    "\n",
    "# Apply cuts\n",
    "mask_salt_cut = apply_cut_lists(events_salt_matched_to_simu, AmBe_CUTS_EXCEPT_S2Pattern)\n",
    "mask_salt_min = apply_cut_lists(events_salt_matched_to_simu, ALL_CUTS_MINIMAL)\n",
    "mask_simu_cut = apply_cut_lists(events_simu_matched_to_salt, AmBe_CUTS_EXCEPT_S2Pattern)\n",
    "mask_simu_min = apply_cut_lists(events_salt_matched_to_simu, ALL_CUTS_MINIMAL)\n",
    "mask_all_simu_min = apply_cut_lists(events_simu, ALL_CUTS_MINIMAL)\n",
    "mask_all_simu_cut = apply_cut_lists(events_simu, AmBe_CUTS_EXCEPT_S2Pattern)\n",
    "\n",
    "# Print out the stats\n",
    "print(\"Statistics of sprinkled dataset before matching and cuts:\", len(events_salt))\n",
    "print(\"Statistics of simulated dataset before matching and cuts:\", len(events_simu))\n",
    "print(\"Statistics of sprinkled when matching S1s' time:\", len(events_salt_matched_to_simu))\n",
    "print(\n",
    "    \"Statistics of sprinkled after ALL_CUTS_MINIMAL cuts:\",\n",
    "    len(events_salt_matched_to_simu[mask_salt_min]),\n",
    ")\n",
    "print(\n",
    "    \"Statistics of sprinkled after AmBe_CUTS_EXCEPT_S2Pattern cuts:\",\n",
    "    len(events_salt_matched_to_simu[mask_salt_cut]),\n",
    ")"
   ]
  },
  {
   "cell_type": "markdown",
   "id": "db6c6e36-4597-48e3-a5dc-7091fae4dc09",
   "metadata": {},
   "source": [
    "For efficiency estimation below, we will try to use Clopper-Pearson uncertainty estimation"
   ]
  },
  {
   "cell_type": "code",
   "execution_count": null,
   "id": "cc55bcaf-587a-417f-b70e-93501e601524",
   "metadata": {},
   "outputs": [],
   "source": [
    "saltax.show_eff1d(\n",
    "    events_simu[mask_all_simu_min],  # All simulated events passing minimal cuts\n",
    "    events_simu_matched_to_salt[mask_simu_min],  # Matched simulated events who passed minimal cuts\n",
    "    mask_simu_cut[mask_simu_min],  # Mask for passing all cuts\n",
    "    coord=\"e_ces\",\n",
    "    bins=np.linspace(0, 12, 25),\n",
    "    labels_hist=[\n",
    "        \"All Simulation w ALL_CUTS_MINIMAL\",\n",
    "        \"Matched Simulation w ALL_CUTS_MINIMAL\",\n",
    "        \"Matched Simulation w AmBe_CUTS_EXCEPT_S2Pattern\",\n",
    "    ],\n",
    "    labels_eff=[\n",
    "        \"Matching given ALL_CUTS_MINIMAL\",\n",
    "        \"AmBe_CUTS_EXCEPT_S2Pattern given ALL_CUTS_MINIMAL+Matched\",\n",
    "    ],\n",
    "    title=\"Matching Acceptance and Cut Acceptance\",\n",
    ")"
   ]
  },
  {
   "cell_type": "code",
   "execution_count": null,
   "id": "241dfecc-aa83-4e58-aef0-cdc5bb6ea655",
   "metadata": {},
   "outputs": [],
   "source": [
    "saltax.show_eff1d(\n",
    "    events_simu[mask_all_simu_min],  # All simulated events passing minimal cuts\n",
    "    events_simu_matched_to_salt[mask_simu_min],  # Matched simulated events who passed minimal cuts\n",
    "    mask_simu_cut[mask_simu_min],  # Mask for passing all cuts\n",
    "    coord=\"s1_area\",\n",
    "    bins=np.linspace(0, 100, 25),\n",
    "    labels_hist=[\n",
    "        \"All Simulation w ALL_CUTS_MINIMAL\",\n",
    "        \"Matched Simulation w ALL_CUTS_MINIMAL\",\n",
    "        \"Matched Simulation w AmBe_CUTS_EXCEPT_S2Pattern\",\n",
    "    ],\n",
    "    labels_eff=[\n",
    "        \"Matching given ALL_CUTS_MINIMAL\",\n",
    "        \"AmBe_CUTS_EXCEPT_S2Pattern given ALL_CUTS_MINIMAL+Matched\",\n",
    "    ],\n",
    "    title=\"Matching Acceptance and Cut Acceptance\",\n",
    ")"
   ]
  },
  {
   "cell_type": "code",
   "execution_count": null,
   "id": "e15edc1f-409f-4e8f-aeec-9e072d7f7cd5",
   "metadata": {},
   "outputs": [],
   "source": [
    "saltax.show_eff1d(\n",
    "    events_simu[mask_all_simu_min],  # All simulated events passing minimal cuts\n",
    "    events_simu_matched_to_salt[mask_simu_min],  # Matched simulated events who passed minimal cuts\n",
    "    mask_simu_cut[mask_simu_min],  # Mask for passing all cuts\n",
    "    coord=\"s2_area\",\n",
    "    bins=np.linspace(200, 4500, 51),\n",
    "    labels_hist=[\n",
    "        \"All Simulation w ALL_CUTS_MINIMAL\",\n",
    "        \"Matched Simulation w ALL_CUTS_MINIMAL\",\n",
    "        \"Matched Simulation w AmBe_CUTS_EXCEPT_S2Pattern\",\n",
    "    ],\n",
    "    labels_eff=[\n",
    "        \"Matching given ALL_CUTS_MINIMAL\",\n",
    "        \"AmBe_CUTS_EXCEPT_S2Pattern given ALL_CUTS_MINIMAL+Matched\",\n",
    "    ],\n",
    "    title=\"Matching Acceptance and Cut Acceptance\",\n",
    ")"
   ]
  },
  {
   "cell_type": "markdown",
   "id": "453c685a-f24c-47ed-972a-09fb79c005c5",
   "metadata": {},
   "source": [
    "Note we compare the area spectrums with and without ambience interference, afer matching S1 timing + some cuts."
   ]
  },
  {
   "cell_type": "code",
   "execution_count": null,
   "id": "350c71f9-5e68-42f1-bec5-2df890c780e0",
   "metadata": {},
   "outputs": [],
   "source": [
    "mask_salt_tc2 = events_salt_matched_to_simu[\"s1_tight_coincidence\"] == 2\n",
    "mask_simu_tc2 = events_simu_matched_to_salt[\"s1_tight_coincidence\"] == 2\n",
    "mask_all_simu_tc2 = events_simu[\"s1_tight_coincidence\"] == 2\n",
    "\n",
    "plt.figure(dpi=150)\n",
    "# Expect this as ambience interfered NV tagged data after minimal cuts (excluding 3-fold tc)\n",
    "plt.hist(\n",
    "    events_salt_matched_to_simu[mask_salt_min & mask_salt_tc2][\"s1_area\"],\n",
    "    bins=np.linspace(0, 15, 31),\n",
    "    alpha=0.5,\n",
    "    density=True,\n",
    "    color=\"tab:blue\",\n",
    "    label=\"Matched Sprinkled: %s counts\"\n",
    "    % (len(events_salt_matched_to_simu[mask_salt_min & mask_salt_tc2])),\n",
    ")\n",
    "# Expect this as ambience-free NV tagged data after minimal cuts (excluding 3-fold tc)\n",
    "plt.hist(\n",
    "    events_simu[mask_all_simu_min & mask_all_simu_tc2][\"s1_area\"],\n",
    "    bins=np.linspace(0, 15, 31),\n",
    "    alpha=0.5,\n",
    "    density=True,\n",
    "    color=\"tab:red\",\n",
    "    label=\"All Simulated: %s counts\" % (len(events_simu[mask_all_simu_min & mask_all_simu_tc2])),\n",
    ")\n",
    "plt.legend()\n",
    "plt.title(\"TC=2 + Minimal Cuts\")\n",
    "plt.xticks(np.arange(0, 15.1, 2.5))\n",
    "plt.xlabel(\"S1 Area [PE]\")\n",
    "plt.ylabel(\"Normalized Counts\")"
   ]
  },
  {
   "cell_type": "code",
   "execution_count": null,
   "id": "4577d206-7f67-4c4a-8450-405a14415c68",
   "metadata": {},
   "outputs": [],
   "source": [
    "plt.figure(dpi=150)\n",
    "\n",
    "plt.scatter(\n",
    "    events_simu[mask_all_simu_min][\"s1_area\"],\n",
    "    events_simu[mask_all_simu_min][\"cs2\"],\n",
    "    color=\"tab:orange\",\n",
    "    s=0.5,\n",
    "    label=\"All Simulated\",\n",
    ")\n",
    "\n",
    "plt.scatter(\n",
    "    events_simu_matched_to_salt[mask_salt_min][\"s1_area\"],\n",
    "    events_simu_matched_to_salt[mask_salt_min][\"cs2\"],\n",
    "    color=\"tab:red\",\n",
    "    s=0.5,\n",
    "    label=\"Matched Simulated\",\n",
    ")\n",
    "\n",
    "plt.scatter(\n",
    "    events_salt_matched_to_simu[mask_salt_min][\"s1_area\"],\n",
    "    events_salt_matched_to_simu[mask_salt_min][\"cs2\"],\n",
    "    color=\"tab:blue\",\n",
    "    s=0.5,\n",
    "    label=\"Matched Sprinkled\",\n",
    ")\n",
    "\n",
    "plt.xlabel(\"S1 area [PE]\")\n",
    "plt.ylabel(\"CS2 [PE]\")\n",
    "plt.xlim(0, 100)\n",
    "plt.ylim(100, 7000)\n",
    "plt.yscale(\"log\")\n",
    "plt.legend()\n",
    "plt.title(\"After Minimal Cuts\")"
   ]
  },
  {
   "cell_type": "code",
   "execution_count": null,
   "id": "99841c66-72be-48a5-895b-32ae6e21b45c",
   "metadata": {},
   "outputs": [],
   "source": [
    "plt.figure(dpi=150)\n",
    "\n",
    "plt.scatter(\n",
    "    events_simu[mask_all_simu_cut][\"s1_area\"],\n",
    "    events_simu[mask_all_simu_cut][\"cs2\"],\n",
    "    color=\"tab:orange\",\n",
    "    s=0.5,\n",
    "    label=\"All Simulated\",\n",
    ")\n",
    "\n",
    "plt.scatter(\n",
    "    events_simu_matched_to_salt[mask_salt_cut][\"s1_area\"],\n",
    "    events_simu_matched_to_salt[mask_salt_cut][\"cs2\"],\n",
    "    color=\"tab:red\",\n",
    "    s=0.5,\n",
    "    label=\"Matched Simulated\",\n",
    ")\n",
    "\n",
    "plt.scatter(\n",
    "    events_salt_matched_to_simu[mask_salt_cut][\"s1_area\"],\n",
    "    events_salt_matched_to_simu[mask_salt_cut][\"cs2\"],\n",
    "    color=\"tab:blue\",\n",
    "    s=0.5,\n",
    "    label=\"Matched Sprinkled\",\n",
    ")\n",
    "\n",
    "plt.xlabel(\"S1 area [PE]\")\n",
    "plt.ylabel(\"CS2 [PE]\")\n",
    "plt.xlim(0, 100)\n",
    "plt.ylim(100, 7000)\n",
    "plt.yscale(\"log\")\n",
    "plt.legend()\n",
    "plt.title(\"After AmBe_CUTS_EXCEPT_S2Pattern\")"
   ]
  },
  {
   "cell_type": "code",
   "execution_count": null,
   "id": "15049ce3-6608-4ad3-8456-3a6278263098",
   "metadata": {},
   "outputs": [],
   "source": [
    "plt.figure(dpi=150)\n",
    "plt.hist(\n",
    "    events_simu[mask_all_simu_min][\"s1_area\"],\n",
    "    bins=np.linspace(0, 100, 50),\n",
    "    color=\"tab:orange\",\n",
    "    label=\"All Simulated\",\n",
    "    histtype=\"step\",\n",
    ")\n",
    "plt.hist(\n",
    "    events_salt_matched_to_simu[mask_salt_min][\"s1_area\"],\n",
    "    bins=np.linspace(0, 100, 50),\n",
    "    color=\"tab:blue\",\n",
    "    label=\"Matched Sprinkled\",\n",
    "    histtype=\"step\",\n",
    ")\n",
    "plt.hist(\n",
    "    events_simu_matched_to_salt[mask_salt_min][\"s1_area\"],\n",
    "    bins=np.linspace(0, 100, 50),\n",
    "    color=\"tab:red\",\n",
    "    label=\"Matched Simulated\",\n",
    "    histtype=\"step\",\n",
    ")\n",
    "plt.legend()\n",
    "plt.xlabel(\"S1 area [PE]\")\n",
    "plt.title(\"After Minimal Cuts\")\n",
    "\n",
    "plt.figure(dpi=150)\n",
    "plt.hist(\n",
    "    events_simu[mask_all_simu_min][\"s2_area\"],\n",
    "    bins=np.linspace(0, 6000, 100),\n",
    "    color=\"tab:orange\",\n",
    "    label=\"All Simulated\",\n",
    "    histtype=\"step\",\n",
    ")\n",
    "plt.hist(\n",
    "    events_salt_matched_to_simu[mask_salt_min][\"s2_area\"],\n",
    "    bins=np.linspace(0, 6000, 100),\n",
    "    color=\"tab:blue\",\n",
    "    label=\"Matched Sprinkled\",\n",
    "    histtype=\"step\",\n",
    ")\n",
    "plt.hist(\n",
    "    events_simu_matched_to_salt[mask_salt_min][\"s2_area\"],\n",
    "    bins=np.linspace(0, 6000, 100),\n",
    "    color=\"tab:red\",\n",
    "    label=\"Matched Simulated\",\n",
    "    histtype=\"step\",\n",
    ")\n",
    "plt.legend()\n",
    "plt.xlabel(\"S2 area [PE]\")\n",
    "plt.title(\"After Minimal Cuts\")"
   ]
  },
  {
   "cell_type": "code",
   "execution_count": null,
   "id": "1186cef4-8dd1-480a-ad6a-ade0cbf2b719",
   "metadata": {},
   "outputs": [],
   "source": [
    "plt.figure(dpi=150)\n",
    "plt.hist(\n",
    "    events_simu[mask_all_simu_cut][\"s1_area\"],\n",
    "    bins=np.linspace(0, 100, 50),\n",
    "    color=\"tab:orange\",\n",
    "    label=\"All Simulated\",\n",
    "    histtype=\"step\",\n",
    ")\n",
    "plt.hist(\n",
    "    events_salt_matched_to_simu[mask_salt_cut][\"s1_area\"],\n",
    "    bins=np.linspace(0, 100, 50),\n",
    "    color=\"tab:blue\",\n",
    "    label=\"Matched Sprinkled\",\n",
    "    histtype=\"step\",\n",
    ")\n",
    "plt.hist(\n",
    "    events_simu_matched_to_salt[mask_salt_cut][\"s1_area\"],\n",
    "    bins=np.linspace(0, 100, 50),\n",
    "    color=\"tab:red\",\n",
    "    label=\"Matched Simulated\",\n",
    "    histtype=\"step\",\n",
    ")\n",
    "plt.legend()\n",
    "plt.xlabel(\"S1 area [PE]\")\n",
    "plt.title(\"After AmBe_CUTS_EXCEPT_S2Pattern\")\n",
    "\n",
    "plt.figure(dpi=150)\n",
    "plt.hist(\n",
    "    events_simu[mask_all_simu_cut][\"s2_area\"],\n",
    "    bins=np.linspace(0, 6000, 100),\n",
    "    color=\"tab:orange\",\n",
    "    label=\"All Simulated\",\n",
    "    histtype=\"step\",\n",
    ")\n",
    "plt.hist(\n",
    "    events_salt_matched_to_simu[mask_salt_cut][\"s2_area\"],\n",
    "    bins=np.linspace(0, 6000, 100),\n",
    "    color=\"tab:blue\",\n",
    "    label=\"Matched Sprinkled\",\n",
    "    histtype=\"step\",\n",
    ")\n",
    "plt.hist(\n",
    "    events_simu_matched_to_salt[mask_salt_cut][\"s2_area\"],\n",
    "    bins=np.linspace(0, 6000, 100),\n",
    "    color=\"tab:red\",\n",
    "    label=\"Matched Simulated\",\n",
    "    histtype=\"step\",\n",
    ")\n",
    "plt.legend()\n",
    "plt.xlabel(\"S2 area [PE]\")\n",
    "plt.title(\"After AmBe_CUTS_EXCEPT_S2Pattern\")"
   ]
  },
  {
   "cell_type": "markdown",
   "id": "bf0b4653-485a-4f7d-95df-432d9610e6c8",
   "metadata": {},
   "source": [
    "## Physical S1/S2 downgraded to alt_S1/alt_S2"
   ]
  },
  {
   "cell_type": "code",
   "execution_count": null,
   "id": "420f89b4-1371-47a0-bc2c-c6e966086653",
   "metadata": {},
   "outputs": [],
   "source": [
    "# Use the indices in inds_dict to do matching\n",
    "# This matching means the simulated S1 became alternative S1; also apply minimal cuts on simu\n",
    "mask_simu_s1_made_alt = np.zeros(len(events_simu), dtype=bool)\n",
    "mask_simu_s1_made_alt[inds_dict[\"ind_simu_s1_made_alt\"]] = True\n",
    "events_simu_s1_made_alt = events_simu[mask_all_simu_min & mask_simu_s1_made_alt]\n",
    "events_salt_s1_made_alt = events_salt[inds_dict[\"ind_salt_s1_made_alt\"]]\n",
    "\n",
    "# This matching means the simulated S2 became alternative S2; also apply minimal cuts on simu\n",
    "mask_simu_s2_made_alt = np.zeros(len(events_simu), dtype=bool)\n",
    "mask_simu_s2_made_alt[inds_dict[\"ind_simu_s2_made_alt\"]] = True\n",
    "events_simu_s2_made_alt = events_simu[mask_all_simu_min & mask_simu_s2_made_alt]\n",
    "events_salt_s2_made_alt = events_salt[inds_dict[\"ind_salt_s2_made_alt\"]]"
   ]
  },
  {
   "cell_type": "code",
   "execution_count": null,
   "id": "64ac006b-d15d-477a-a780-edae86227f1e",
   "metadata": {},
   "outputs": [],
   "source": [
    "show_eff1d(\n",
    "    events_simu[mask_all_simu_min],\n",
    "    events_simu_s1_made_alt,\n",
    "    coord=\"e_ces\",\n",
    "    bins=np.linspace(0, 12, 25),\n",
    "    labels_hist=[\"Simulation before matching&cuts\", \"Simulation S1 downgraded\"],\n",
    "    labels_eff=[\"S1 downgraded\"],\n",
    "    title=\"S1 Downgraded After Minimal Cuts\",\n",
    ")"
   ]
  },
  {
   "cell_type": "code",
   "execution_count": null,
   "id": "053cbc97-d173-4625-8c7c-352796d617c9",
   "metadata": {},
   "outputs": [],
   "source": [
    "show_eff1d(\n",
    "    events_simu[mask_all_simu_min],\n",
    "    events_simu_s2_made_alt,\n",
    "    coord=\"e_ces\",\n",
    "    bins=np.linspace(0, 12, 25),\n",
    "    labels_hist=[\"Simulation before matching&cuts\", \"Simulation S2 downgraded\"],\n",
    "    labels_eff=[\"S2 downgraded\"],\n",
    "    title=\"S2 Downgraded After Minimal Cuts\",\n",
    ")"
   ]
  },
  {
   "cell_type": "markdown",
   "id": "88cdab16-eb1f-438e-9fcf-20ed876cb7f6",
   "metadata": {},
   "source": [
    "## Lost or split"
   ]
  },
  {
   "cell_type": "markdown",
   "id": "c6bff67b-d641-4313-8c29-d71c00cd18f3",
   "metadata": {},
   "source": [
    "See Waveform Viewer section for example waveforms"
   ]
  },
  {
   "cell_type": "markdown",
   "id": "09ad0073-0cbf-49bf-b397-07bc7a0145de",
   "metadata": {},
   "source": [
    "- Lost: most likely failed `n_competing` cretieria in event building. \n",
    "- Split: most likely sprinkled on top of many data \"S1\" and \"S2\""
   ]
  },
  {
   "cell_type": "code",
   "execution_count": null,
   "id": "aedb8c60-d329-42d5-83c4-3cf58bd9643a",
   "metadata": {},
   "outputs": [],
   "source": [
    "# Use the indices in inds_dict to do matching\n",
    "# The event was lost: no overlap in event time range\n",
    "mask_simu_event_lost = np.zeros(len(events_simu), dtype=bool)\n",
    "mask_simu_event_lost[inds_dict[\"ind_simu_event_lost\"]] = True\n",
    "events_simu_event_lost = events_simu[mask_all_simu_min & mask_simu_event_lost]\n",
    "\n",
    "# The event was split: more than one event overlapped with the simulated event time range\n",
    "mask_simu_event_split = np.zeros(len(events_simu), dtype=bool)\n",
    "mask_simu_event_split[inds_dict[\"ind_simu_event_split\"]] = True\n",
    "events_simu_event_split = events_simu[mask_all_simu_min & mask_simu_event_split]"
   ]
  },
  {
   "cell_type": "code",
   "execution_count": null,
   "id": "5b441447-09ff-48c9-b4be-a83653fbda4a",
   "metadata": {},
   "outputs": [],
   "source": [
    "show_eff1d(\n",
    "    events_simu[mask_all_simu_min],\n",
    "    events_simu_event_lost,\n",
    "    coord=\"e_ces\",\n",
    "    bins=np.linspace(0, 12, 25),\n",
    "    labels_hist=[\"Simulation before matching&cuts\", \"Simulation event lost\"],\n",
    "    labels_eff=[\"Event lost\"],\n",
    "    title=\"Event Lost After Minimal Cuts\",\n",
    ")"
   ]
  },
  {
   "cell_type": "code",
   "execution_count": null,
   "id": "35afe47d-1e72-4d38-b121-c76f98d2bc31",
   "metadata": {},
   "outputs": [],
   "source": [
    "show_eff1d(\n",
    "    events_simu[mask_all_simu_min],\n",
    "    events_simu_event_split,\n",
    "    coord=\"e_ces\",\n",
    "    bins=np.linspace(0, 12, 25),\n",
    "    labels_hist=[\"Simulation before matching&cuts\", \"Simulation event split\"],\n",
    "    labels_eff=[\"Event split\"],\n",
    "    title=\"Event Split After Minimal Cuts\",\n",
    ")"
   ]
  },
  {
   "cell_type": "markdown",
   "id": "cc6e87e5-ff7e-4a49-bf54-01b0f97b92d3",
   "metadata": {},
   "source": [
    "## Z Error"
   ]
  },
  {
   "cell_type": "markdown",
   "id": "c3bfdb5b-051c-4eb4-a437-5c98defdf1a0",
   "metadata": {},
   "source": [
    "A fun thing to check is that the replaced main S1/S2 will give a nonsential reconstructed z. Let's see how often it happens."
   ]
  },
  {
   "cell_type": "code",
   "execution_count": null,
   "id": "2d71447f-9283-4d8f-923b-13f2584d0472",
   "metadata": {},
   "outputs": [],
   "source": [
    "plt.figure(dpi=150)\n",
    "plt.hist(events_salt_matched_to_simu[\"z\"] - events_simu_matched_to_salt[\"z\"], bins=100)\n",
    "plt.xlabel(\"Sprinkled-Simulated Z [cm]\")\n",
    "plt.ylabel(\"Counts\")\n",
    "plt.yscale(\"log\")\n",
    "plt.title(\"Artificial Displacement in Z by Ambience Interference\")"
   ]
  },
  {
   "cell_type": "code",
   "execution_count": null,
   "id": "0fdd2726-bea7-49a7-8b86-7961fa170f86",
   "metadata": {},
   "outputs": [],
   "source": [
    "plt.figure(dpi=150)\n",
    "plt.scatter(events_simu_matched_to_salt[\"z\"], events_salt_matched_to_simu[\"z\"], s=0.1)\n",
    "plt.xlabel(\"Simulated Z [cm]\")\n",
    "plt.ylabel(\"Sprinkled Z [cm]\")\n",
    "plt.title(\"Artificial Displacement in Z by Ambience Interference\")"
   ]
  },
  {
   "cell_type": "markdown",
   "id": "529e4883-1a72-4fe6-9626-259b47a11061",
   "metadata": {},
   "source": [
    "## Match events time"
   ]
  },
  {
   "cell_type": "markdown",
   "id": "eb7d19bd-a6be-4e10-8008-b061b2087728",
   "metadata": {},
   "source": [
    "It mimick doing AmBe calibration without NV tagging S1, but knowing when this event happen."
   ]
  },
  {
   "cell_type": "code",
   "execution_count": null,
   "id": "ab2a5967-e38d-44fe-83da-58f4dc44e6e4",
   "metadata": {},
   "outputs": [],
   "source": [
    "events_salt_matched_to_simu = events_salt[inds_dict[\"ind_salt_event_found\"]]\n",
    "events_simu_matched_to_salt = events_simu[inds_dict[\"ind_simu_event_found\"]]\n",
    "print(\"Statistics when matching events' time:\", len(events_salt_matched_to_simu))\n",
    "\n",
    "mask_salt_cut = apply_cut_lists(events_salt_matched_to_simu, AmBe_CUTS_EXCEPT_S2Pattern)\n",
    "print(\"Statistics after cuts:\", len(events_salt_matched_to_simu[mask_salt_cut]))"
   ]
  },
  {
   "cell_type": "code",
   "execution_count": null,
   "id": "00806ed9-be8a-40af-8d97-dc237aef737b",
   "metadata": {
    "scrolled": true
   },
   "outputs": [],
   "source": [
    "super_mega_analysis(events_salt_matched_to_simu, events_simu_matched_to_salt)"
   ]
  },
  {
   "cell_type": "markdown",
   "id": "5d63e958-ad28-434a-b19f-14db212d7d58",
   "metadata": {},
   "source": [
    "## Match S1 time"
   ]
  },
  {
   "cell_type": "markdown",
   "id": "87274032-29f8-4c09-ba25-027fe7333842",
   "metadata": {},
   "source": [
    "This should be of most use to us, because in data we require S1 timing coincidence with neutrno veto. Here we alredy considered a +/-100ns fuzzy window extension when matching S1."
   ]
  },
  {
   "cell_type": "code",
   "execution_count": null,
   "id": "fcf3afec-af61-4a95-b61f-50417b0759b0",
   "metadata": {},
   "outputs": [],
   "source": [
    "events_salt_matched_to_simu = events_salt[inds_dict[\"ind_salt_s1_found\"]]\n",
    "events_simu_matched_to_salt = events_simu[inds_dict[\"ind_simu_s1_found\"]]\n",
    "print(\"Statistics when matching S1s' time:\", len(events_salt_matched_to_simu))\n",
    "\n",
    "mask_salt_cut = apply_cut_lists(events_salt_matched_to_simu, AmBe_CUTS_EXCEPT_S2Pattern)\n",
    "mask_salt_min = apply_cut_lists(events_salt_matched_to_simu, ALL_CUTS_MINIMAL)\n",
    "print(\"Statistics after minimal cuts:\", len(events_salt_matched_to_simu[mask_salt_min]))\n",
    "print(\n",
    "    \"Statistics after AmBe_CUTS_EXCEPT_S2Pattern cuts:\",\n",
    "    len(events_salt_matched_to_simu[mask_salt_cut]),\n",
    ")"
   ]
  },
  {
   "cell_type": "code",
   "execution_count": null,
   "id": "47e7914f-4be9-40c5-894f-03f79686fe92",
   "metadata": {
    "scrolled": true
   },
   "outputs": [],
   "source": [
    "# Mimic what happen if we only use minimal cuts (no 3-fold tc though) + NV tagging\n",
    "super_mega_analysis(\n",
    "    events_salt_matched_to_simu, events_simu_matched_to_salt, cut_list=ALL_CUTS_MINIMAL\n",
    ")"
   ]
  },
  {
   "cell_type": "code",
   "execution_count": null,
   "id": "ca375ae7-86bb-4a6a-a52d-3a86c3e617c7",
   "metadata": {},
   "outputs": [],
   "source": [
    "# Mimic what happen if we only use all AmBe cuts except for S2pattern (not reliable for wfsim) + NV tagging\n",
    "super_mega_analysis(\n",
    "    events_salt_matched_to_simu, events_simu_matched_to_salt, cut_list=AmBe_CUTS_EXCEPT_S2Pattern\n",
    ")"
   ]
  },
  {
   "cell_type": "markdown",
   "id": "bd35726c-d883-4cd6-9d7f-b6f5b6749bc1",
   "metadata": {
    "jp-MarkdownHeadingCollapsed": true
   },
   "source": [
    "## Match S2 time"
   ]
  },
  {
   "cell_type": "markdown",
   "id": "72fb55d2-4c28-46de-bdd6-70f141ff4366",
   "metadata": {},
   "source": [
    "This is just for fun. There is no physical motivation for it since we never know the true timing of S2 in any calibraiton."
   ]
  },
  {
   "cell_type": "code",
   "execution_count": null,
   "id": "8cffd6b6-9231-4335-b455-3ae0f3bd0de4",
   "metadata": {},
   "outputs": [],
   "source": [
    "events_salt_matched_to_simu = events_salt[inds_dict[\"ind_salt_s2_found\"]]\n",
    "events_simu_matched_to_salt = events_simu[inds_dict[\"ind_simu_s2_found\"]]\n",
    "print(\"Statistics when matching S2s' time:\", len(events_salt_matched_to_simu))\n",
    "mask_salt_cut = apply_cut_lists(events_salt_matched_to_simu, AmBe_CUTS_EXCEPT_S2Pattern)\n",
    "print(\"Statistics after cuts:\", len(events_salt_matched_to_simu[mask_salt_cut]))"
   ]
  },
  {
   "cell_type": "code",
   "execution_count": null,
   "id": "5b1e6e85-47de-4e6c-800d-33b1c6dd9413",
   "metadata": {
    "scrolled": true
   },
   "outputs": [],
   "source": [
    "# super_mega_analysis(events_salt_matched_to_simu, events_simu_matched_to_salt)"
   ]
  },
  {
   "cell_type": "markdown",
   "id": "321ade98-10e1-480b-94ec-62059741468f",
   "metadata": {
    "jp-MarkdownHeadingCollapsed": true
   },
   "source": [
    "## Match both S1 and S2"
   ]
  },
  {
   "cell_type": "markdown",
   "id": "977d7d7a-1367-4ce5-8c1a-bbc61e9fac73",
   "metadata": {},
   "source": [
    "This case specifically check that the physical S1s and S2s are NOT replaced by any junk in event building. It is not true in general especially in dirty ambience, but just for sanity check."
   ]
  },
  {
   "cell_type": "code",
   "execution_count": null,
   "id": "2e9dc3d4-1e8d-4d5a-b6f1-4795842f7f8a",
   "metadata": {},
   "outputs": [],
   "source": [
    "events_salt_matched_to_simu = events_salt[\n",
    "    np.intersect1d(inds_dict[\"ind_salt_s2_found\"], inds_dict[\"ind_salt_s1_found\"])\n",
    "]\n",
    "events_simu_matched_to_salt = events_simu[\n",
    "    np.intersect1d(inds_dict[\"ind_simu_s2_found\"], inds_dict[\"ind_simu_s1_found\"])\n",
    "]\n",
    "print(\"Statistics when matching both S1s and S2s' time:\", len(events_salt_matched_to_simu))\n",
    "mask_salt_cut = apply_cut_lists(events_salt_matched_to_simu, AmBe_CUTS_EXCEPT_S2Pattern)\n",
    "print(\"Statistics after cuts:\", len(events_salt_matched_to_simu[mask_salt_cut]))"
   ]
  },
  {
   "cell_type": "code",
   "execution_count": null,
   "id": "56239b46-855d-4778-8058-98579fc43f42",
   "metadata": {
    "scrolled": true
   },
   "outputs": [],
   "source": [
    "# super_mega_analysis(events_salt_matched_to_simu, events_simu_matched_to_salt)"
   ]
  },
  {
   "cell_type": "markdown",
   "id": "f3198748-3aa3-44e9-9565-9f089dab9fa9",
   "metadata": {},
   "source": [
    "# Waveform Viewer"
   ]
  },
  {
   "cell_type": "markdown",
   "id": "c207c1d7-abf5-4a51-9cca-4eabb9b57376",
   "metadata": {},
   "source": [
    "Still we use the S1 timing matching to mimic AmBe NV selection. We will only care about run `051906` because I have only copied that one's `peaks` to Midway3."
   ]
  },
  {
   "cell_type": "markdown",
   "id": "9b885372-3fdd-4426-af1e-4c4ea76966b2",
   "metadata": {},
   "source": [
    "## Watch some random things"
   ]
  },
  {
   "cell_type": "code",
   "execution_count": null,
   "id": "6add8d94-8a64-41a9-b5a2-14bc0ea7d5d3",
   "metadata": {},
   "outputs": [],
   "source": [
    "(events_simu, events_salt, inds_dict) = saltax.load_events(  # index for matching\n",
    "    [\"051906\"], st_salt, st_simu\n",
    ")\n",
    "# event_info + cuts_basic\n",
    "\n",
    "# Match based on S1 timing, with +/- 100ns fuzzy extension window\n",
    "events_salt_matched_to_simu = events_salt[inds_dict[\"ind_salt_s1_found\"]]\n",
    "events_simu_matched_to_salt = events_simu[inds_dict[\"ind_simu_s1_found\"]]\n",
    "\n",
    "# Apply minimal cuts\n",
    "mask_salt_min = apply_cut_lists(events_salt_matched_to_simu, ALL_CUTS_MINIMAL)\n",
    "matched_salt_wcut = events_salt_matched_to_simu[mask_salt_min]\n",
    "matched_simu_wcut = events_simu_matched_to_salt[mask_salt_min]\n",
    "\n",
    "st_data = cutax.xenonnt_offline()"
   ]
  },
  {
   "cell_type": "markdown",
   "id": "241d1fd3-9ec4-41b0-b7ab-942a86eb6742",
   "metadata": {},
   "source": [
    "Just blindly watch some waveforms."
   ]
  },
  {
   "cell_type": "code",
   "execution_count": null,
   "id": "833c28ce-ab68-4403-8539-5b7ac21dd154",
   "metadata": {},
   "outputs": [],
   "source": [
    "saltax.plot_event_wf(\n",
    "    ind=66,  # Put a random index here\n",
    "    st_salt=st_salt,\n",
    "    st_simu=st_simu,\n",
    "    st_data=cutax.xenonnt_offline(),\n",
    "    runid=\"051906\",\n",
    "    events_simu=matched_simu_wcut,\n",
    "    events_salt=matched_salt_wcut,\n",
    "    event_ext_window_ns=1e6,\n",
    "    s1_ext_window_samples=100,\n",
    "    s2_ext_window_samples=500,\n",
    "    ylim=(0, 5),\n",
    ");"
   ]
  },
  {
   "cell_type": "markdown",
   "id": "b879759e-7ca7-4bbd-9001-d0eb9d65d656",
   "metadata": {},
   "source": [
    "Now we want to see low energy range, whose S1 is less than 10PE."
   ]
  },
  {
   "cell_type": "code",
   "execution_count": null,
   "id": "ef69337c-60c9-4519-b13e-058415891c2d",
   "metadata": {},
   "outputs": [],
   "source": [
    "saltax.plot_event_wf(\n",
    "    ind=60,  # Put a random index here\n",
    "    st_salt=st_salt,\n",
    "    st_simu=st_simu,\n",
    "    st_data=cutax.xenonnt_offline(),\n",
    "    runid=\"051906\",\n",
    "    events_simu=matched_simu_wcut[\n",
    "        matched_salt_wcut[\"s1_area\"] < 10\n",
    "    ],  # whose sprinkled S1 is less than 10PE\n",
    "    events_salt=matched_salt_wcut[\n",
    "        matched_salt_wcut[\"s1_area\"] < 10\n",
    "    ],  # whose sprinkled S1 is less than 10PE\n",
    "    event_ext_window_ns=1e6,\n",
    "    s1_ext_window_samples=100,\n",
    "    s2_ext_window_samples=1000,\n",
    "    ylim=(0, 2),\n",
    ");"
   ]
  },
  {
   "cell_type": "markdown",
   "id": "d4519896-9a28-42bf-9f12-bfbce027caee",
   "metadata": {},
   "source": [
    "## Watch examples that S1/S2 downgraded to alternative S1/S2"
   ]
  },
  {
   "cell_type": "code",
   "execution_count": null,
   "id": "6213b911-6950-476e-b4bf-451b00682813",
   "metadata": {},
   "outputs": [],
   "source": [
    "(events_simu, events_salt, inds_dict) = saltax.load_events(  # index for matching\n",
    "    [\"051906\"], st_salt, st_simu\n",
    ")\n",
    "# event_info + cuts_basic\n",
    "\n",
    "# Match based on S1 timing, with +/- 100ns fuzzy extension window\n",
    "events_salt_matched_to_simu = events_salt[inds_dict[\"ind_salt_s1_found\"]]\n",
    "events_simu_matched_to_salt = events_simu[inds_dict[\"ind_simu_s1_found\"]]\n",
    "\n",
    "# Apply minimal cuts\n",
    "mask_salt_min = apply_cut_lists(events_salt_matched_to_simu, ALL_CUTS_MINIMAL)\n",
    "mask_all_simu_min = apply_cut_lists(events_simu, ALL_CUTS_MINIMAL)\n",
    "matched_salt_wcut = events_salt_matched_to_simu[mask_salt_min]\n",
    "matched_simu_wcut = events_simu_matched_to_salt[mask_salt_min]\n",
    "\n",
    "st_data = cutax.xenonnt_offline()\n",
    "\n",
    "# Use the indices in inds_dict to do matching\n",
    "# This matching means the simulated S1 became alternative S1; also apply minimal cuts on simu\n",
    "events_simu_s1_made_alt = events_simu[inds_dict[\"ind_simu_s1_made_alt\"]]\n",
    "events_salt_s1_made_alt = events_salt[inds_dict[\"ind_salt_s1_made_alt\"]]\n",
    "\n",
    "# This matching means the simulated S2 became alternative S2; also apply minimal cuts on simu\n",
    "events_simu_s2_made_alt = events_simu[inds_dict[\"ind_simu_s2_made_alt\"]]\n",
    "events_salt_s2_made_alt = events_salt[inds_dict[\"ind_salt_s2_made_alt\"]]"
   ]
  },
  {
   "cell_type": "code",
   "execution_count": null,
   "id": "ba99f6c0-d632-4d67-8945-724495f17222",
   "metadata": {},
   "outputs": [],
   "source": [
    "saltax.plot_event_wf(\n",
    "    ind=5,  # Put a random index here\n",
    "    st_salt=st_salt,\n",
    "    st_simu=st_simu,\n",
    "    st_data=cutax.xenonnt_offline(),\n",
    "    runid=\"051906\",\n",
    "    events_simu=events_simu_s1_made_alt,\n",
    "    events_salt=events_salt_s1_made_alt,\n",
    "    event_ext_window_ns=2.4e6,\n",
    "    s1_ext_window_samples=100,\n",
    "    s2_ext_window_samples=500,\n",
    "    ylim=(0, 5),\n",
    ");"
   ]
  },
  {
   "cell_type": "markdown",
   "id": "b734f53c-51b6-4e65-8a9a-ae65c2e40364",
   "metadata": {},
   "source": [
    "## Watch examples of event lost/split"
   ]
  },
  {
   "cell_type": "code",
   "execution_count": null,
   "id": "6a346826-3402-4003-a881-e6caff971d0c",
   "metadata": {},
   "outputs": [],
   "source": [
    "(events_simu, events_salt, inds_dict) = saltax.load_events(  # index for matching\n",
    "    [\"051906\"], st_salt, st_simu\n",
    ")\n",
    "# event_info + cuts_basic\n",
    "\n",
    "# Use the indices in inds_dict to find lost events and split events\n",
    "events_simu_event_lost = events_simu[inds_dict[\"ind_simu_event_lost\"]]\n",
    "events_simu_event_split = events_simu[inds_dict[\"ind_simu_event_split\"]]"
   ]
  },
  {
   "cell_type": "code",
   "execution_count": null,
   "id": "02583d09-60b5-4839-b421-2e092264a2a7",
   "metadata": {},
   "outputs": [],
   "source": [
    "# Lost\n",
    "saltax.plot_event_wf(\n",
    "    ind=0,  # Put a random index here\n",
    "    st_salt=st_salt,\n",
    "    st_simu=st_simu,\n",
    "    st_data=cutax.xenonnt_offline(),\n",
    "    runid=\"051906\",\n",
    "    events_simu=events_simu_event_lost,\n",
    "    events_salt=None,  # Put None when there is no sensible corresponding sprinkled event to show\n",
    "    event_ext_window_ns=2.4e6,\n",
    "    s1_ext_window_samples=100,\n",
    "    s2_ext_window_samples=500,\n",
    "    ylim=(0, 5),\n",
    ");"
   ]
  },
  {
   "cell_type": "code",
   "execution_count": null,
   "id": "05bd3fdd-08f5-4b4f-80e7-6fb5fff369dd",
   "metadata": {},
   "outputs": [],
   "source": [
    "# Split\n",
    "saltax.plot_event_wf(\n",
    "    ind=0,  # Put a random index here\n",
    "    st_salt=st_salt,\n",
    "    st_simu=st_simu,\n",
    "    st_data=cutax.xenonnt_offline(),\n",
    "    runid=\"051906\",\n",
    "    events_simu=events_simu_event_split,\n",
    "    events_salt=None,  # Put None when there is no sensible corresponding sprinkled event to show\n",
    "    event_ext_window_ns=2.4e6,\n",
    "    s1_ext_window_samples=100,\n",
    "    s2_ext_window_samples=500,\n",
    "    ylim=(0, 5),\n",
    ");"
   ]
  },
  {
   "cell_type": "code",
   "execution_count": null,
   "id": "3c1bb4a0-b6d1-42d3-9ace-c26d20711e9b",
   "metadata": {},
   "outputs": [],
   "source": []
  }
 ],
 "metadata": {
  "kernelspec": {
   "display_name": "Python 3 (ipykernel)",
   "language": "python",
   "name": "python3"
  },
  "language_info": {
   "codemirror_mode": {
    "name": "ipython",
    "version": 3
   },
   "file_extension": ".py",
   "mimetype": "text/x-python",
   "name": "python",
   "nbconvert_exporter": "python",
   "pygments_lexer": "ipython3",
   "version": "3.9.19"
  }
 },
 "nbformat": 4,
 "nbformat_minor": 5
}
